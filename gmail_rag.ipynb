{
 "cells": [
  {
   "cell_type": "markdown",
   "id": "088f7870",
   "metadata": {},
   "source": [
    "# Gmail RAG System with Gemini\n",
    "\n",
    "## Gmail-powered Knowledge Assistant\n",
    "\n",
    "This system will:\n",
    "1. Connect to your Gmail account using Google APIs\n",
    "2. Extract and process email content\n",
    "3. Create a vector database from your emails\n",
    "4. Use Gemini to answer questions based on your email history\n",
    "\n",
    "### Prerequisites\n",
    "- Google Cloud Project with Gmail API enabled\n",
    "- OAuth 2.0 credentials downloaded as `credentials.json`\n",
    "- Gemini API key in your `.env` file"
   ]
  },
  {
   "cell_type": "code",
   "execution_count": 1,
   "id": "7c437bf0",
   "metadata": {},
   "outputs": [
    {
     "name": "stdout",
     "output_type": "stream",
     "text": [
      "✅ google-ai-generativelanguage version: 0.6.18\n",
      "✅ Using Gemini models\n"
     ]
    }
   ],
   "source": [
    "# Gmail RAG System - Imports\n",
    "import os\n",
    "import pickle\n",
    "import base64\n",
    "import email\n",
    "from datetime import datetime, timedelta\n",
    "from dotenv import load_dotenv\n",
    "import gradio as gr\n",
    "import google.generativeai as genai\n",
    "from googleapiclient.discovery import build\n",
    "from google_auth_oauthlib.flow import InstalledAppFlow\n",
    "from google.auth.transport.requests import Request\n",
    "\n",
    "# LangChain imports with Google GenAI\n",
    "from langchain.document_loaders import DirectoryLoader, TextLoader\n",
    "from langchain.text_splitter import CharacterTextSplitter\n",
    "from langchain.schema import Document\n",
    "from langchain_chroma import Chroma\n",
    "from langchain.memory import ConversationBufferMemory\n",
    "from langchain.chains import ConversationalRetrievalChain\n",
    "\n",
    "# Try Google GenAI LangChain integration with version checking\n",
    "try:\n",
    "    from langchain_google_genai import GoogleGenerativeAIEmbeddings, ChatGoogleGenerativeAI\n",
    "    import google.ai.generativelanguage as genai_lang\n",
    "    \n",
    "    # Check version compatibility\n",
    "    try:\n",
    "        version = genai_lang.__version__\n",
    "        print(f\"✅ google-ai-generativelanguage version: {version}\")\n",
    "    except:\n",
    "        print(\"✅ LangChain Google GenAI integration loaded\")\n",
    "    \n",
    "    LANGCHAIN_GOOGLE_AVAILABLE = True\n",
    "    print(\"✅ Using Gemini models\")\n",
    "except ImportError as e:\n",
    "    print(f\"❌ LangChain Google GenAI not available: {e}\")\n",
    "    print(\"📦 Try: pip install --upgrade google-ai-generativelanguage>=0.6.18\")\n",
    "    LANGCHAIN_GOOGLE_AVAILABLE = False\n",
    "    # Fallback to OpenAI\n",
    "    try:\n",
    "        from langchain_openai import OpenAIEmbeddings, ChatOpenAI\n",
    "        print(\"✅ Falling back to OpenAI models\")\n",
    "    except ImportError:\n",
    "        print(\"❌ Neither Google GenAI nor OpenAI available. Please install one of them.\")\n",
    "        raise\n",
    "\n",
    "# Visualization\n",
    "import numpy as np\n",
    "from sklearn.manifold import TSNE\n",
    "import plotly.graph_objects as go\n",
    "import re\n",
    "from bs4 import BeautifulSoup"
   ]
  },
  {
   "cell_type": "code",
   "execution_count": 2,
   "id": "bb038a51",
   "metadata": {},
   "outputs": [
    {
     "name": "stdout",
     "output_type": "stream",
     "text": [
      "🤖 Configuration: Gemini models\n"
     ]
    }
   ],
   "source": [
    "# Configuration with better error handling\n",
    "SCOPES = ['https://www.googleapis.com/auth/gmail.readonly']\n",
    "\n",
    "# Choose model based on available integrations\n",
    "if LANGCHAIN_GOOGLE_AVAILABLE:\n",
    "    MODEL = \"gemini-1.5-flash\"\n",
    "    EMBEDDING_MODEL = \"models/embedding-001\"\n",
    "    print(\"🤖 Configuration: Gemini models\")\n",
    "else:\n",
    "    MODEL = \"gpt-4o-mini\" \n",
    "    EMBEDDING_MODEL = \"text-embedding-ada-002\"\n",
    "    print(\"🤖 Configuration: OpenAI models (fallback)\")\n",
    "\n",
    "DB_NAME = \"gmail_vector_db\"\n",
    "MAX_EMAILS = 500"
   ]
  },
  {
   "cell_type": "code",
   "execution_count": 3,
   "id": "ca632b73",
   "metadata": {},
   "outputs": [
    {
     "name": "stdout",
     "output_type": "stream",
     "text": [
      "✅ Google API configured\n"
     ]
    }
   ],
   "source": [
    "# Load environment variables with validation\n",
    "load_dotenv()\n",
    "os.environ['GOOGLE_API_KEY'] = os.getenv('GOOGLE_API_KEY', 'your-key-if-not-using-env')\n",
    "\n",
    "# Validate API keys\n",
    "google_key = os.environ['GOOGLE_API_KEY']\n",
    "if LANGCHAIN_GOOGLE_AVAILABLE:\n",
    "    if google_key == 'your-key-if-not-using-env' or not google_key:\n",
    "        print(\"⚠️  Warning: Google API key not found. Please set GOOGLE_API_KEY in .env file\")\n",
    "    else:\n",
    "        genai.configure()\n",
    "        print(\"✅ Google API configured\")\n",
    "else:\n",
    "    os.environ['OPENAI_API_KEY'] = os.getenv('OPENAI_API_KEY', 'your-key-if-not-using-env')\n",
    "    openai_key = os.environ['OPENAI_API_KEY']\n",
    "    if openai_key == 'your-key-if-not-using-env' or not openai_key:\n",
    "        print(\"⚠️  Warning: OpenAI API key not found. Please set OPENAI_API_KEY in .env file\")\n",
    "    else:\n",
    "        print(\"✅ OpenAI API configured\")"
   ]
  },
  {
   "cell_type": "code",
   "execution_count": 4,
   "id": "d24723ff",
   "metadata": {},
   "outputs": [],
   "source": [
    "class GmailExtractor:\n",
    "    \"\"\"Gmail API handler for extracting emails\"\"\"\n",
    "    \n",
    "    def __init__(self, credentials_file='credentials.json', token_file='token.pickle'):\n",
    "        self.credentials_file = credentials_file\n",
    "        self.token_file = token_file\n",
    "        self.service = None\n",
    "        self.authenticate()\n",
    "    \n",
    "    def authenticate(self):\n",
    "        \"\"\"Authenticate with Gmail API\"\"\"\n",
    "        creds = None\n",
    "        \n",
    "        # Load existing token\n",
    "        if os.path.exists(self.token_file):\n",
    "            with open(self.token_file, 'rb') as token:\n",
    "                creds = pickle.load(token)\n",
    "        \n",
    "        # If no valid credentials, get new ones\n",
    "        if not creds or not creds.valid:\n",
    "            if creds and creds.expired and creds.refresh_token:\n",
    "                creds.refresh(Request())\n",
    "            else:\n",
    "                if not os.path.exists(self.credentials_file):\n",
    "                    raise FileNotFoundError(\n",
    "                        f\"Please download your Gmail API credentials as '{self.credentials_file}' \"\n",
    "                        \"from Google Cloud Console\"\n",
    "                    )\n",
    "                flow = InstalledAppFlow.from_client_secrets_file(\n",
    "                    self.credentials_file, SCOPES)\n",
    "                creds = flow.run_local_server(port=0)\n",
    "            \n",
    "            # Save credentials for next run\n",
    "            with open(self.token_file, 'wb') as token:\n",
    "                pickle.dump(creds, token)\n",
    "        \n",
    "        self.service = build('gmail', 'v1', credentials=creds)\n",
    "        print(\"Gmail authentication successful!\")\n",
    "    \n",
    "    def get_message_content(self, message_id):\n",
    "        \"\"\"Extract content from a Gmail message\"\"\"\n",
    "        try:\n",
    "            message = self.service.users().messages().get(\n",
    "                userId='me', id=message_id, format='full'\n",
    "            ).execute()\n",
    "            \n",
    "            # Extract headers\n",
    "            headers = message['payload'].get('headers', [])\n",
    "            subject = next((h['value'] for h in headers if h['name'] == 'Subject'), 'No Subject')\n",
    "            sender = next((h['value'] for h in headers if h['name'] == 'From'), 'Unknown Sender')\n",
    "            date = next((h['value'] for h in headers if h['name'] == 'Date'), 'Unknown Date')\n",
    "            \n",
    "            # Extract body\n",
    "            body = self._extract_body(message['payload'])\n",
    "            \n",
    "            return {\n",
    "                'id': message_id,\n",
    "                'subject': subject,\n",
    "                'sender': sender,\n",
    "                'date': date,\n",
    "                'body': body\n",
    "            }\n",
    "        except Exception as e:\n",
    "            print(f\"Error extracting message {message_id}: {e}\")\n",
    "            return None\n",
    "    \n",
    "    def _extract_body(self, payload):\n",
    "        \"\"\"Extract body text from email payload\"\"\"\n",
    "        body = \"\"\n",
    "        \n",
    "        if 'parts' in payload:\n",
    "            for part in payload['parts']:\n",
    "                if part['mimeType'] == 'text/plain':\n",
    "                    data = part['body']['data']\n",
    "                    body += base64.urlsafe_b64decode(data).decode('utf-8')\n",
    "                elif part['mimeType'] == 'text/html':\n",
    "                    data = part['body']['data']\n",
    "                    html_content = base64.urlsafe_b64decode(data).decode('utf-8')\n",
    "                    # Convert HTML to plain text\n",
    "                    soup = BeautifulSoup(html_content, 'html.parser')\n",
    "                    body += soup.get_text()\n",
    "        else:\n",
    "            if payload['mimeType'] == 'text/plain':\n",
    "                data = payload['body']['data']\n",
    "                body = base64.urlsafe_b64decode(data).decode('utf-8')\n",
    "            elif payload['mimeType'] == 'text/html':\n",
    "                data = payload['body']['data']\n",
    "                html_content = base64.urlsafe_b64decode(data).decode('utf-8')\n",
    "                soup = BeautifulSoup(html_content, 'html.parser')\n",
    "                body = soup.get_text()\n",
    "        \n",
    "        return body.strip()\n",
    "    \n",
    "    def get_emails(self, max_results=MAX_EMAILS, query=''):\n",
    "        \"\"\"Get emails from Gmail\"\"\"\n",
    "        try:\n",
    "            # Get message IDs\n",
    "            results = self.service.users().messages().list(\n",
    "                userId='me', maxResults=max_results, q=query\n",
    "            ).execute()\n",
    "            \n",
    "            messages = results.get('messages', [])\n",
    "            print(f\"Found {len(messages)} emails to process...\")\n",
    "            \n",
    "            emails = []\n",
    "            for i, msg in enumerate(messages):\n",
    "                if i % 50 == 0:\n",
    "                    print(f\"Processing email {i+1}/{len(messages)}\")\n",
    "                \n",
    "                email_content = self.get_message_content(msg['id'])\n",
    "                if email_content and email_content['body']:\n",
    "                    emails.append(email_content)\n",
    "            \n",
    "            print(f\"Successfully extracted {len(emails)} emails\")\n",
    "            return emails\n",
    "            \n",
    "        except Exception as e:\n",
    "            print(f\"Error getting emails: {e}\")\n",
    "            return []"
   ]
  },
  {
   "cell_type": "code",
   "execution_count": 5,
   "id": "742f7df9",
   "metadata": {},
   "outputs": [],
   "source": [
    "class EmailDocument:\n",
    "    \"\"\"Document class for email content\"\"\"\n",
    "    \n",
    "    def __init__(self, email_data):\n",
    "        self.metadata = {\n",
    "            'source': f\"Gmail - {email_data['id']}\",\n",
    "            'subject': email_data['subject'],\n",
    "            'sender': email_data['sender'],\n",
    "            'date': email_data['date'],\n",
    "            'doc_type': 'email'\n",
    "        }\n",
    "        \n",
    "        # Combine subject and body for content\n",
    "        self.page_content = f\"Subject: {email_data['subject']}\\n\"\n",
    "        self.page_content += f\"From: {email_data['sender']}\\n\"\n",
    "        self.page_content += f\"Date: {email_data['date']}\\n\\n\"\n",
    "        self.page_content += email_data['body']\n",
    "        \n",
    "        # Clean up the content\n",
    "        self.page_content = self._clean_content(self.page_content)\n",
    "    \n",
    "    def _clean_content(self, content):\n",
    "        \"\"\"Clean email content\"\"\"\n",
    "        # Remove excessive whitespace\n",
    "        content = re.sub(r'\\n\\s*\\n', '\\n\\n', content)\n",
    "        content = re.sub(r'\\s+', ' ', content)\n",
    "        \n",
    "        # Remove common email artifacts\n",
    "        content = re.sub(r'(On .* wrote:)', '', content)\n",
    "        content = re.sub(r'(From: .*\\nSent: .*\\nTo: .*\\nSubject: .*)', '', content)\n",
    "        \n",
    "        return content.strip()"
   ]
  },
  {
   "cell_type": "code",
   "execution_count": 6,
   "id": "d07a6197",
   "metadata": {},
   "outputs": [],
   "source": [
    "def create_email_vector_database():\n",
    "    \"\"\"Create vector database from Gmail emails using LangChain + Chroma\"\"\"\n",
    "    print(\"Starting Gmail extraction...\")\n",
    "    \n",
    "    # Initialize Gmail extractor\n",
    "    gmail = GmailExtractor()\n",
    "    \n",
    "    # Get emails\n",
    "    emails = gmail.get_emails(max_results=MAX_EMAILS)\n",
    "    \n",
    "    if not emails:\n",
    "        print(\"No emails found!\")\n",
    "        return None\n",
    "    \n",
    "    # Convert emails to LangChain documents\n",
    "    print(\"Converting emails to documents...\")\n",
    "    documents = []\n",
    "    for email_data in emails:\n",
    "        try:\n",
    "            doc = EmailDocument(email_data)\n",
    "            documents.append(Document(\n",
    "                page_content=doc.page_content,\n",
    "                metadata=doc.metadata\n",
    "            ))\n",
    "        except Exception as e:\n",
    "            print(f\"Error processing email: {e}\")\n",
    "            continue\n",
    "    \n",
    "    # Split documents into chunks\n",
    "    print(\"Splitting documents into chunks...\")\n",
    "    text_splitter = CharacterTextSplitter(chunk_size=1000, chunk_overlap=200)\n",
    "    chunks = text_splitter.split_documents(documents)\n",
    "    \n",
    "    print(f\"Created {len(chunks)} chunks from {len(documents)} emails\")\n",
    "    \n",
    "    # Create embeddings with error handling\n",
    "    try:\n",
    "        if LANGCHAIN_GOOGLE_AVAILABLE:\n",
    "            embeddings = GoogleGenerativeAIEmbeddings(model=EMBEDDING_MODEL)\n",
    "            print(\"🔤 Using Google embeddings\")\n",
    "        else:\n",
    "            embeddings = OpenAIEmbeddings(model=EMBEDDING_MODEL)\n",
    "            print(\"🔤 Using OpenAI embeddings\")\n",
    "    except Exception as e:\n",
    "        print(f\"❌ Error creating embeddings: {e}\")\n",
    "        return None\n",
    "    \n",
    "    # Remove existing database\n",
    "    if os.path.exists(DB_NAME):\n",
    "        try:\n",
    "            existing_db = Chroma(persist_directory=DB_NAME, embedding_function=embeddings)\n",
    "            existing_db.delete_collection()\n",
    "            print(\"Removed existing database\")\n",
    "        except:\n",
    "            pass\n",
    "    \n",
    "    # Create vector store\n",
    "    print(\"Creating vector database...\")\n",
    "    vectorstore = Chroma.from_documents(\n",
    "        documents=chunks, \n",
    "        embedding=embeddings, \n",
    "        persist_directory=DB_NAME\n",
    "    )\n",
    "    \n",
    "    print(f\"Vector database created with {vectorstore._collection.count()} chunks\")\n",
    "    return vectorstore"
   ]
  },
  {
   "cell_type": "code",
   "execution_count": 7,
   "id": "3711cfb5",
   "metadata": {},
   "outputs": [],
   "source": [
    "def load_existing_database():\n",
    "    \"\"\"Load existing vector database\"\"\"\n",
    "    if not os.path.exists(DB_NAME):\n",
    "        return None\n",
    "    \n",
    "    try:\n",
    "        # Use appropriate embeddings with error handling\n",
    "        if LANGCHAIN_GOOGLE_AVAILABLE:\n",
    "            embeddings = GoogleGenerativeAIEmbeddings(model=EMBEDDING_MODEL)\n",
    "        else:\n",
    "            embeddings = OpenAIEmbeddings(model=EMBEDDING_MODEL)\n",
    "            \n",
    "        vectorstore = Chroma(persist_directory=DB_NAME, embedding_function=embeddings)\n",
    "        print(f\"Loaded existing database with {vectorstore._collection.count()} chunks\")\n",
    "        return vectorstore\n",
    "    except Exception as e:\n",
    "        print(f\"Error loading database: {e}\")\n",
    "        print(\"💡 Try recreating the database if it was created with different embeddings\")\n",
    "        return None"
   ]
  },
  {
   "cell_type": "code",
   "execution_count": 8,
   "id": "612f6615",
   "metadata": {},
   "outputs": [],
   "source": [
    "def visualize_email_vectors(vectorstore):\n",
    "    \"\"\"Visualize the email vector database\"\"\"\n",
    "    collection = vectorstore._collection\n",
    "    \n",
    "    # Get vector data\n",
    "    result = collection.get(include=['embeddings', 'documents', 'metadatas'])\n",
    "    vectors = np.array(result['embeddings'])\n",
    "    documents = result['documents']\n",
    "    metadatas = result['metadatas']\n",
    "    \n",
    "    # Check if we have enough samples for visualization\n",
    "    n_samples = len(vectors)\n",
    "    if n_samples < 2:\n",
    "        print(f\"⚠️  Too few samples ({n_samples}) for visualization\")\n",
    "        return None\n",
    "    \n",
    "    # Extract sender domains for coloring\n",
    "    sender_domains = []\n",
    "    for metadata in metadatas:\n",
    "        sender = metadata.get('sender', '')\n",
    "        if '@' in sender:\n",
    "            domain = sender.split('@')[-1].split('>')[0]\n",
    "        else:\n",
    "            domain = 'unknown'\n",
    "        sender_domains.append(domain)\n",
    "    \n",
    "    # Assign colors based on domains\n",
    "    unique_domains = list(set(sender_domains))\n",
    "    colors = []\n",
    "    color_map = ['blue', 'red', 'green', 'orange', 'purple', 'brown', 'pink', 'gray']\n",
    "    \n",
    "    for domain in sender_domains:\n",
    "        color_idx = unique_domains.index(domain) % len(color_map)\n",
    "        colors.append(color_map[color_idx])\n",
    "    \n",
    "    # Adjust t-SNE parameters based on sample size\n",
    "    perplexity = min(30, n_samples - 1)  # Default is 30, but must be < n_samples\n",
    "    perplexity = max(5, perplexity)      # Minimum of 5 for meaningful results\n",
    "    \n",
    "    print(f\"📊 Visualizing {n_samples} samples with perplexity={perplexity}\")\n",
    "    \n",
    "    # Reduce dimensionality with adjusted parameters\n",
    "    tsne = TSNE(n_components=2, random_state=42, perplexity=perplexity)\n",
    "    reduced_vectors = tsne.fit_transform(vectors)\n",
    "    \n",
    "    # Create plot\n",
    "    fig = go.Figure(data=[go.Scatter(\n",
    "        x=reduced_vectors[:, 0],\n",
    "        y=reduced_vectors[:, 1],\n",
    "        mode='markers',\n",
    "        marker=dict(size=5, color=colors, opacity=0.8),\n",
    "        text=[f\"From: {metadata.get('sender', '')}<br>Subject: {metadata.get('subject', '')}<br>Text: {doc[:100]}...\" \n",
    "              for metadata, doc in zip(metadatas, documents)],\n",
    "        hoverinfo='text'\n",
    "    )])\n",
    "    \n",
    "    fig.update_layout(\n",
    "        title='Gmail Vector Store Visualization (colored by sender domain)',\n",
    "        xaxis_title='Dimension 1',\n",
    "        yaxis_title='Dimension 2',\n",
    "        width=800,\n",
    "        height=600,\n",
    "        margin=dict(r=20, b=10, l=10, t=40)\n",
    "    )\n",
    "    \n",
    "    return fig"
   ]
  },
  {
   "cell_type": "code",
   "execution_count": 9,
   "id": "b754276b",
   "metadata": {},
   "outputs": [
    {
     "name": "stdout",
     "output_type": "stream",
     "text": [
      "Checking for existing vector database...\n",
      "Loaded existing database with 495 chunks\n",
      "Using existing vector database\n"
     ]
    },
    {
     "name": "stdin",
     "output_type": "stream",
     "text": [
      "Do you want to refresh the database with new emails? (y/n):  n\n"
     ]
    }
   ],
   "source": [
    "# Initialize the vector database with better error handling\n",
    "print(\"Checking for existing vector database...\")\n",
    "vectorstore = load_existing_database()\n",
    "\n",
    "if vectorstore is None:\n",
    "    print(\"No existing database found. Creating new one from Gmail...\")\n",
    "    try:\n",
    "        vectorstore = create_email_vector_database()\n",
    "    except Exception as e:\n",
    "        print(f\"❌ Failed to create database: {e}\")\n",
    "        print(\"🔧 Please check your API keys and internet connection\")\n",
    "else:\n",
    "    print(\"Using existing vector database\")\n",
    "    \n",
    "    # Option to refresh database\n",
    "    try:\n",
    "        refresh = input(\"Do you want to refresh the database with new emails? (y/n): \").lower()\n",
    "        if refresh == 'y':\n",
    "            vectorstore = create_email_vector_database()\n",
    "    except KeyboardInterrupt:\n",
    "        print(\"\\nUsing existing database...\")"
   ]
  },
  {
   "cell_type": "code",
   "execution_count": 10,
   "id": "4e7798c3",
   "metadata": {},
   "outputs": [
    {
     "name": "stdout",
     "output_type": "stream",
     "text": [
      "Generating visualization...\n",
      "📊 Visualizing 495 samples with perplexity=30\n"
     ]
    },
    {
     "data": {
      "application/vnd.plotly.v1+json": {
       "config": {
        "plotlyServerURL": "https://plot.ly"
       },
       "data": [
        {
         "hoverinfo": "text",
         "marker": {
          "color": [
           "blue",
           "blue",
           "blue",
           "blue",
           "pink",
           "gray",
           "gray",
           "orange",
           "purple",
           "red",
           "orange",
           "green",
           "gray",
           "red",
           "gray",
           "gray",
           "red",
           "blue",
           "green",
           "blue",
           "blue",
           "red",
           "red",
           "red",
           "red",
           "red",
           "red",
           "red",
           "red",
           "red",
           "red",
           "red",
           "red",
           "orange",
           "gray",
           "gray",
           "gray",
           "green",
           "purple",
           "purple",
           "purple",
           "purple",
           "purple",
           "purple",
           "purple",
           "purple",
           "purple",
           "purple",
           "gray",
           "gray",
           "blue",
           "gray",
           "pink",
           "gray",
           "orange",
           "gray",
           "gray",
           "blue",
           "blue",
           "gray",
           "red",
           "brown",
           "red",
           "red",
           "orange",
           "red",
           "blue",
           "gray",
           "blue",
           "red",
           "orange",
           "green",
           "green",
           "gray",
           "blue",
           "purple",
           "purple",
           "blue",
           "blue",
           "orange",
           "blue",
           "red",
           "red",
           "red",
           "red",
           "brown",
           "green",
           "gray",
           "red",
           "brown",
           "blue",
           "orange",
           "blue",
           "gray",
           "red",
           "green",
           "blue",
           "blue",
           "red",
           "red",
           "red",
           "green",
           "brown",
           "gray",
           "blue",
           "orange",
           "red",
           "blue",
           "purple",
           "red",
           "green",
           "blue",
           "gray",
           "blue",
           "orange",
           "brown",
           "pink",
           "orange",
           "red",
           "green",
           "blue",
           "blue",
           "orange",
           "red",
           "orange",
           "orange",
           "orange",
           "orange",
           "orange",
           "blue",
           "blue",
           "blue",
           "pink",
           "blue",
           "brown",
           "red",
           "red",
           "red",
           "green",
           "gray",
           "blue",
           "red",
           "red",
           "orange",
           "purple",
           "red",
           "green",
           "gray",
           "blue",
           "brown",
           "green",
           "purple",
           "red",
           "green",
           "red",
           "gray",
           "blue",
           "orange",
           "pink",
           "brown",
           "orange",
           "orange",
           "orange",
           "orange",
           "pink",
           "gray",
           "red",
           "blue",
           "red",
           "orange",
           "blue",
           "blue",
           "blue",
           "purple",
           "red",
           "brown",
           "green",
           "orange",
           "green",
           "red",
           "red",
           "brown",
           "red",
           "orange",
           "green",
           "green",
           "gray",
           "brown",
           "green",
           "green",
           "purple",
           "brown",
           "orange",
           "gray",
           "orange",
           "orange",
           "red",
           "gray",
           "pink",
           "pink",
           "brown",
           "blue",
           "purple",
           "green",
           "gray",
           "red",
           "pink",
           "green",
           "brown",
           "gray",
           "orange",
           "orange",
           "blue",
           "orange",
           "red",
           "brown",
           "red",
           "red",
           "green",
           "blue",
           "red",
           "green",
           "green",
           "red",
           "brown",
           "red",
           "green",
           "green",
           "red",
           "blue",
           "pink",
           "gray",
           "orange",
           "red",
           "gray",
           "red",
           "red",
           "blue",
           "purple",
           "orange",
           "green",
           "red",
           "orange",
           "green",
           "green",
           "green",
           "blue",
           "red",
           "gray",
           "blue",
           "orange",
           "green",
           "red",
           "brown",
           "blue",
           "green",
           "pink",
           "pink",
           "green",
           "red",
           "blue",
           "brown",
           "green",
           "pink",
           "blue",
           "red",
           "gray",
           "brown",
           "gray",
           "blue",
           "blue",
           "gray",
           "pink",
           "gray",
           "gray",
           "orange",
           "red",
           "red",
           "brown",
           "red",
           "red",
           "red",
           "blue",
           "blue",
           "gray",
           "orange",
           "blue",
           "gray",
           "blue",
           "purple",
           "red",
           "green",
           "orange",
           "orange",
           "red",
           "blue",
           "purple",
           "brown",
           "orange",
           "orange",
           "blue",
           "orange",
           "gray",
           "blue",
           "purple",
           "orange",
           "pink",
           "green",
           "red",
           "blue",
           "orange",
           "orange",
           "orange",
           "pink",
           "red",
           "gray",
           "orange",
           "green",
           "green",
           "green",
           "green",
           "green",
           "brown",
           "brown",
           "brown",
           "brown",
           "blue",
           "orange",
           "red",
           "green",
           "red",
           "red",
           "red",
           "green",
           "green",
           "gray",
           "pink",
           "pink",
           "pink",
           "brown",
           "blue",
           "blue",
           "red",
           "red",
           "green",
           "brown",
           "pink",
           "brown",
           "gray",
           "red",
           "brown",
           "red",
           "red",
           "brown",
           "gray",
           "blue",
           "orange",
           "orange",
           "orange",
           "gray",
           "brown",
           "green",
           "green",
           "green",
           "green",
           "green",
           "gray",
           "blue",
           "blue",
           "blue",
           "red",
           "gray",
           "blue",
           "green",
           "purple",
           "blue",
           "gray",
           "brown",
           "blue",
           "blue",
           "blue",
           "brown",
           "red",
           "brown",
           "gray",
           "gray",
           "red",
           "red",
           "blue",
           "green",
           "red",
           "brown",
           "orange",
           "red",
           "orange",
           "brown",
           "orange",
           "orange",
           "orange",
           "orange",
           "orange",
           "brown",
           "green",
           "blue",
           "blue",
           "green",
           "blue",
           "blue",
           "green",
           "gray",
           "brown",
           "gray",
           "gray",
           "brown",
           "gray",
           "red",
           "red",
           "brown",
           "brown",
           "orange",
           "red",
           "green",
           "orange",
           "purple",
           "blue",
           "red",
           "red",
           "gray",
           "brown",
           "green",
           "blue",
           "blue",
           "green",
           "blue",
           "red",
           "red",
           "red",
           "red",
           "gray",
           "gray",
           "pink",
           "purple",
           "purple",
           "green",
           "pink",
           "orange",
           "pink",
           "brown",
           "pink",
           "blue",
           "orange",
           "orange",
           "pink",
           "purple",
           "pink",
           "brown",
           "gray",
           "pink",
           "green",
           "pink",
           "pink",
           "pink",
           "gray",
           "gray",
           "orange",
           "orange",
           "red",
           "red",
           "gray",
           "purple",
           "blue",
           "pink",
           "blue",
           "blue",
           "brown",
           "green",
           "red",
           "blue",
           "gray",
           "blue",
           "pink",
           "gray",
           "red",
           "pink",
           "red",
           "green",
           "red",
           "purple",
           "blue",
           "red",
           "purple",
           "red",
           "pink",
           "pink",
           "green"
          ],
          "opacity": 0.8,
          "size": 5
         },
         "mode": "markers",
         "text": [
          "From: GreatFrontEnd <team@greatfrontend.com><br>Subject: 🚀 Start Here: Your Simple, Proven Roadmap to Front End Interview Success<br>Text: Subject: 🚀 Start Here: Your Simple, Proven Roadmap to Front End Interview Success From: GreatFrontEn...",
          "From: Coursera <Coursera@m.learn.coursera.org><br>Subject: Get more information about financing the BSc in Data Science & AI degree<br>Text: Subject: Get more information about financing the BSc in Data Science & AI degree From: Coursera <Co...",
          "From: Coursera <Coursera@m.learn.coursera.org><br>Subject: These programs are just for you<br>Text: Subject: These programs are just for you From: Coursera <Coursera@m.learn.coursera.org> Date: Fri, 1...",
          "From: Spline Team <hello@mail.spline.design><br>Subject: 🆕 Video Exports & Animated Stroke in Hana<br>Text: Subject: 🆕 Video Exports & Animated Stroke in Hana From: Spline Team <hello@mail.spline.design> Date...",
          "From: GitKraken <no-reply@gitkraken.com><br>Subject: Only 3 Days Left to Save 60-80% on GitKraken Pro<br>Text: Subject: Only 3 Days Left to Save 60-80% on GitKraken Pro From: GitKraken <no-reply@gitkraken.com> D...",
          "From: Codecademy Bootcamp <learn@itr.mail.codecademy.com><br>Subject: Hear from our past bootcamp learners<br>Text: Subject: Hear from our past bootcamp learners From: Codecademy Bootcamp <learn@itr.mail.codecademy.c...",
          "From: Codecademy <learn@itr.mail.codecademy.com><br>Subject: Don’t go it alone<br>Text: Subject: Don’t go it alone From: Codecademy <learn@itr.mail.codecademy.com> Date: Fri, 13 Jun 2025 1...",
          "From: Google Cloud <CloudPlatform-noreply@google.com><br>Subject: Security alert for your reCAPTCHA key tribalmuesuem<br>Text: Subject: Security alert for your reCAPTCHA key tribalmuesuem From: Google Cloud <CloudPlatform-norep...",
          "From: bigbasket <alert@info.bigbasket.com><br>Subject: A mini-quiz for K-Pop fans<br>Text: Subject: A mini-quiz for K-Pop fans From: bigbasket <alert@info.bigbasket.com> Date: Fri, 13 Jun 202...",
          "From: JioMart <offers@mailer.jiomart.com><br>Subject: Deals of the Season on Electronics!<br>Text: Subject: Deals of the Season on Electronics! From: JioMart <offers@mailer.jiomart.com> Date: Fri, 13...",
          "From: Ben at Hugging Face <benjamin.burtenshaw@huggingface.co><br>Subject: New Agents and MCP Course - with Anthropic and Hugging Face<br>Text: Subject: New Agents and MCP Course - with Anthropic and Hugging Face From: Ben at Hugging Face <benj...",
          "From: LeetCode <no-reply@leetcode.com><br>Subject: LeetCode Weekly Digest<br>Text: Subject: LeetCode Weekly Digest From: LeetCode <no-reply@leetcode.com> Date: Thu, 12 Jun 2025 21:30:...",
          "From: DataCamp <team@datacamp.com><br>Subject: You're invited to RADAR: AI<br>Text: Subject: You're invited to RADAR: AI From: DataCamp <team@datacamp.com> Date: Thu, 12 Jun 2025 19:57...",
          "From: Devpost <support@devpost.com><br>Subject: From serverless to speed builds: test your skills now<br>Text: Subject: From serverless to speed builds: test your skills now From: Devpost <support@devpost.com> D...",
          "From: Codecademy Bootcamp <learn@itr.mail.codecademy.com><br>Subject: Data Analytics is booming in India!<br>Text: Subject: Data Analytics is booming in India! From: Codecademy Bootcamp <learn@itr.mail.codecademy.co...",
          "From: Codecademy <learn@itr.mail.codecademy.com><br>Subject: Complete your first lesson — it’s quick<br>Text: Subject: Complete your first lesson — it’s quick From: Codecademy <learn@itr.mail.codecademy.com> Da...",
          "From: \"vercel[bot]\" <notifications@github.com><br>Subject: Re: [Aryankb/SIGMOYD-FRONTEND] 12 06 (PR #1)<br>Text: Subject: Re: [Aryankb/SIGMOYD-FRONTEND] 12 06 (PR #1) From: \"vercel[bot]\" <notifications@github.com>...",
          "From: Coursera <Coursera@m.learn.coursera.org><br>Subject: Financing your degree made easy<br>Text: Subject: Financing your degree made easy From: Coursera <Coursera@m.learn.coursera.org> Date: Thu, 1...",
          "From: LeetCode <no-reply@leetcode.com><br>Subject: Manas, Join LeetCode Contest and get ready for interview prep!<br>Text: Subject: Manas, Join LeetCode Contest and get ready for interview prep! From: LeetCode <no-reply@lee...",
          "From: Coursera <Coursera@m.learn.coursera.org><br>Subject: 📚 Start Introduction to Git and GitHub!<br>Text: Subject: 📚 Start Introduction to Git and GitHub! From: Coursera <Coursera@m.learn.coursera.org> Date...",
          "From: Codeforces@codeforces.com<br>Subject: Codeforces Round 1030 (Div. 2)<br>Text: Subject: Codeforces Round 1030 (Div. 2) From: Codeforces@codeforces.com Date: Wed, 11 Jun 2025 22:24...",
          "From: AB527 <notifications@github.com><br>Subject: Re: [manaspros/tribel] Sync with final branch (PR #10)<br>Text: Subject: Re: [manaspros/tribel] Sync with final branch (PR #10) From: AB527 <notifications@github.co...",
          "From: \"vercel[bot]\" <notifications@github.com><br>Subject: Re: [manaspros/tribel] Sync with final branch (PR #10)<br>Text: Subject: Re: [manaspros/tribel] Sync with final branch (PR #10) From: \"vercel[bot]\" <notifications@g...",
          "From: AB527 <notifications@github.com><br>Subject: [manaspros/tribel] Sync with final branch (PR #10)<br>Text: Subject: [manaspros/tribel] Sync with final branch (PR #10) From: AB527 <notifications@github.com> D...",
          "From: AB527 <notifications@github.com><br>Subject: Re: [manaspros/tribel] Update (PR #9)<br>Text: Subject: Re: [manaspros/tribel] Update (PR #9) From: AB527 <notifications@github.com> Date: Wed, 11 ...",
          "From: \"vercel[bot]\" <notifications@github.com><br>Subject: Re: [manaspros/tribel] Update (PR #9)<br>Text: Subject: Re: [manaspros/tribel] Update (PR #9) From: \"vercel[bot]\" <notifications@github.com> Date: ...",
          "From: AB527 <notifications@github.com><br>Subject: [manaspros/tribel] Update (PR #9)<br>Text: Subject: [manaspros/tribel] Update (PR #9) From: AB527 <notifications@github.com> Date: Wed, 11 Jun ...",
          "From: AB527 <notifications@github.com><br>Subject: Re: [manaspros/tribel] Firebase prod merge (PR #8)<br>Text: Subject: Re: [manaspros/tribel] Firebase prod merge (PR #8) From: AB527 <notifications@github.com> D...",
          "From: \"vercel[bot]\" <notifications@github.com><br>Subject: Re: [manaspros/tribel] Firebase prod merge (PR #8)<br>Text: Subject: Re: [manaspros/tribel] Firebase prod merge (PR #8) From: \"vercel[bot]\" <notifications@githu...",
          "From: AB527 <notifications@github.com><br>Subject: [manaspros/tribel] Firebase prod merge (PR #8)<br>Text: Subject: [manaspros/tribel] Firebase prod merge (PR #8) From: AB527 <notifications@github.com> Date:...",
          "From: AB527 <notifications@github.com><br>Subject: Re: [manaspros/tribel] Complete auth (PR #7)<br>Text: Subject: Re: [manaspros/tribel] Complete auth (PR #7) From: AB527 <notifications@github.com> Date: W...",
          "From: \"vercel[bot]\" <notifications@github.com><br>Subject: Re: [manaspros/tribel] Complete auth (PR #7)<br>Text: Subject: Re: [manaspros/tribel] Complete auth (PR #7) From: \"vercel[bot]\" <notifications@github.com>...",
          "From: AB527 <notifications@github.com><br>Subject: [manaspros/tribel] Complete auth (PR #7)<br>Text: Subject: [manaspros/tribel] Complete auth (PR #7) From: AB527 <notifications@github.com> Date: Wed, ...",
          "From: Hugging Face Team <benjamin.burtenshaw@huggingface.co><br>Subject: Agent Course Bonus: Build an AI Agent That Plays Pokémon! ⚡<br>Text: Subject: Agent Course Bonus: Build an AI Agent That Plays Pokémon! ⚡ From: Hugging Face Team <benjam...",
          "From: Codecademy <learn@itr.mail.codecademy.com><br>Subject: Join the Data Analytics Bootcamp at FLAT 60% off<br>Text: Subject: Join the Data Analytics Bootcamp at FLAT 60% off From: Codecademy <learn@itr.mail.codecadem...",
          "From: Codecademy Bootcamp <learn@itr.mail.codecademy.com><br>Subject: Master data analytics with an ex-Microsoft consultant<br>Text: Subject: Master data analytics with an ex-Microsoft consultant From: Codecademy Bootcamp <learn@itr....",
          "From: Codecademy <learn@itr.mail.codecademy.com><br>Subject: What’s your programming personality?<br>Text: Subject: What’s your programming personality? From: Codecademy <learn@itr.mail.codecademy.com> Date:...",
          "From: Canva <marketing@engage.canva.com><br>Subject: Level up your docs with visuals<br>Text: Subject: Level up your docs with visuals From: Canva <marketing@engage.canva.com> Date: Wed, 11 Jun ...",
          "From: Toshik Soni <Toshik.Soni@studentambassadors.com><br>Subject: Quest 9 Study Jam<br>Text: Subject: Quest 9 Study Jam From: Toshik Soni <Toshik.Soni@studentambassadors.com> Date: Wed, 11 Jun ...",
          "From: Toshik Soni <Toshik.Soni@studentambassadors.com><br>Subject: Quest 8 Study Jam<br>Text: Subject: Quest 8 Study Jam From: Toshik Soni <Toshik.Soni@studentambassadors.com> Date: Wed, 11 Jun ...",
          "From: Toshik Soni <Toshik.Soni@studentambassadors.com><br>Subject: Quest 7 Study Jam<br>Text: Subject: Quest 7 Study Jam From: Toshik Soni <Toshik.Soni@studentambassadors.com> Date: Wed, 11 Jun ...",
          "From: Toshik Soni <Toshik.Soni@studentambassadors.com><br>Subject: Quest 6 Study Jam<br>Text: Subject: Quest 6 Study Jam From: Toshik Soni <Toshik.Soni@studentambassadors.com> Date: Wed, 11 Jun ...",
          "From: Toshik Soni <Toshik.Soni@studentambassadors.com><br>Subject: Quest 4 Study Jam<br>Text: Subject: Quest 4 Study Jam From: Toshik Soni <Toshik.Soni@studentambassadors.com> Date: Wed, 11 Jun ...",
          "From: Toshik Soni <Toshik.Soni@studentambassadors.com><br>Subject: Quest 5 Study Jam<br>Text: Subject: Quest 5 Study Jam From: Toshik Soni <Toshik.Soni@studentambassadors.com> Date: Wed, 11 Jun ...",
          "From: Toshik Soni <Toshik.Soni@studentambassadors.com><br>Subject: Quest 4 Study Jam<br>Text: Subject: Quest 4 Study Jam From: Toshik Soni <Toshik.Soni@studentambassadors.com> Date: Wed, 11 Jun ...",
          "From: Toshik Soni <Toshik.Soni@studentambassadors.com><br>Subject: Quest 4 Study Jam<br>Text: Subject: Quest 4 Study Jam From: Toshik Soni <Toshik.Soni@studentambassadors.com> Date: Wed, 11 Jun ...",
          "From: Toshik Soni <Toshik.Soni@studentambassadors.com><br>Subject: Quest 3 Study Jam<br>Text: Subject: Quest 3 Study Jam From: Toshik Soni <Toshik.Soni@studentambassadors.com> Date: Wed, 11 Jun ...",
          "From: Toshik Soni <Toshik.Soni@studentambassadors.com><br>Subject: Quest 2 Study Jam<br>Text: Subject: Quest 2 Study Jam From: Toshik Soni <Toshik.Soni@studentambassadors.com> Date: Wed, 11 Jun ...",
          "From: Codecademy <learn@itr.mail.codecademy.com><br>Subject: Try Codecademy Pro Student for free<br>Text: Subject: Try Codecademy Pro Student for free From: Codecademy <learn@itr.mail.codecademy.com> Date: ...",
          "From: DataCamp Insights <team@datacamp.com><br>Subject: New Course: Data Validation in Excel<br>Text: Subject: New Course: Data Validation in Excel From: DataCamp Insights <team@datacamp.com> Date: Tue,...",
          "From: Coursera <Coursera@m.learn.coursera.org><br>Subject: Your personalized recommendations are ready<br>Text: Subject: Your personalized recommendations are ready From: Coursera <Coursera@m.learn.coursera.org> ...",
          "From: Codecademy <learn@itr.mail.codecademy.com><br>Subject: NEW SKILL PATH: Elevate your skillset with PyTorch<br>Text: Subject: NEW SKILL PATH: Elevate your skillset with PyTorch From: Codecademy <learn@itr.mail.codecad...",
          "From: GitKraken <no-reply@gitkraken.com><br>Subject: It’s Our Birthday! Enjoy 60–80% Off GitKraken Pro 🎁<br>Text: Subject: It’s Our Birthday! Enjoy 60–80% Off GitKraken Pro 🎁 From: GitKraken <no-reply@gitkraken.com...",
          "From: Microsoft Teams <noreply@email.teams.microsoft.com><br>Subject: You have been added as a guest to Student Ambassadors in Microsoft Teams<br>Text: Subject: You have been added as a guest to Student Ambassadors in Microsoft Teams From: Microsoft Te...",
          "From: Hugging Face Team <benjamin.burtenshaw@huggingface.co><br>Subject: Agent Course: Build Your Final Agent & Earn Your Final Certificate 🎓<br>Text: Subject: Agent Course: Build Your Final Agent & Earn Your Final Certificate 🎓 From: Hugging Face Tea...",
          "From: Codecademy <learn@itr.mail.codecademy.com><br>Subject: Start your Machine Learning/AI Engineer career path<br>Text: Subject: Start your Machine Learning/AI Engineer career path From: Codecademy <learn@itr.mail.codeca...",
          "From: Codecademy Bootcamp <learn@itr.mail.codecademy.com><br>Subject: See what you can achieve in the next 10 weeks<br>Text: Subject: See what you can achieve in the next 10 weeks From: Codecademy Bootcamp <learn@itr.mail.cod...",
          "From: SheerID Verification <Verify@sheerid.com><br>Subject: Get verified for Codecademy<br>Text: Subject: Get verified for Codecademy From: SheerID Verification <Verify@sheerid.com> Date: Tue, 10 J...",
          "From: SheerID Verification <Verify@sheerid.com><br>Subject: Congratulations: your Student status is confirmed<br>Text: Subject: Congratulations: your Student status is confirmed From: SheerID Verification <Verify@sheeri...",
          "From: Codecademy <learn@itr.mail.codecademy.com><br>Subject: It’s nice to meet you<br>Text: Subject: It’s nice to meet you From: Codecademy <learn@itr.mail.codecademy.com> Date: Tue, 10 Jun 20...",
          "From: Codecademy <info@itr.info.codecademy.com><br>Subject: Please verify your email address<br>Text: Subject: Please verify your email address From: Codecademy <info@itr.info.codecademy.com> Date: Tue,...",
          "From: Introduction to Git and GitHub <no-reply@t.mail.coursera.org><br>Subject: Welcome to Introduction to Git and GitHub<br>Text: Subject: Welcome to Introduction to Git and GitHub From: Introduction to Git and GitHub <no-reply@t....",
          "From: JioMart <offers@mailer.jiomart.com><br>Subject: Unbeatable Deals on Kitchen & Dining 🛒🛍️<br>Text: Subject: Unbeatable Deals on Kitchen & Dining 🛒🛍️ From: JioMart <offers@mailer.jiomart.com> Date: Tu...",
          "From: MongoDB <mongodbteam@messages.mongodb.com><br>Subject: Last Chance to register for MongoDB.local series in India!<br>Text: Subject: Last Chance to register for MongoDB.local series in India! From: MongoDB <mongodbteam@messa...",
          "From: huggingface <website@huggingface.co><br>Subject: [Access granted] Your request to access model meta-llama/Llama-3.1-8B has been accepted<br>Text: Subject: [Access granted] Your request to access model meta-llama/Llama-3.1-8B has been accepted Fro...",
          "From: GitHub <noreply@github.com><br>Subject: [GitHub] Your Dependabot alerts for the week of Jun 3 - Jun 10<br>Text: Subject: [GitHub] Your Dependabot alerts for the week of Jun 3 - Jun 10 From: GitHub <noreply@github...",
          "From: Coursera <Coursera@m.learn.coursera.org><br>Subject: Elevate your future with IIT Guwahati<br>Text: Subject: Elevate your future with IIT Guwahati From: Coursera <Coursera@m.learn.coursera.org> Date: ...",
          "From: DataCamp <team@datacamp.com><br>Subject: ₹6440 Off: Upgrade your future with Python skills<br>Text: Subject: ₹6440 Off: Upgrade your future with Python skills From: DataCamp <team@datacamp.com> Date: ...",
          "From: Coursera <Coursera@m.learn.coursera.org><br>Subject: Take another look at what your campus can do with Coursera<br>Text: Subject: Take another look at what your campus can do with Coursera From: Coursera <Coursera@m.learn...",
          "From: Cassie from Devpost <cassie@devpost.com><br>Subject: HACKATHONS just for you, Manas<br>Text: Subject: HACKATHONS just for you, Manas From: Cassie from Devpost <cassie@devpost.com> Date: Mon, 09...",
          "From: huggingface <website@huggingface.co><br>Subject: New login to your Hugging Face account<br>Text: Subject: New login to your Hugging Face account From: huggingface <website@huggingface.co> Date: Mon...",
          "From: Amazon Web Services <aws-marketing-email-replies@amazon.com><br>Subject: Watch re:Inforce 2025 live from anywhere<br>Text: Subject: Watch re:Inforce 2025 live from anywhere From: Amazon Web Services <aws-marketing-email-rep...",
          "From: \"♟Chess.com\" <account@chess.com><br>Subject: Manasplayz0 - We've detected a new login to your Chess.com account<br>Text: Subject: Manasplayz0 - We've detected a new login to your Chess.com account From: \"♟Chess.com\" <acco...",
          "From: Adobe Creative Cloud <mail@mail.adobe.com><br>Subject: The key to unlocking better projects 🔑<br>Text: Subject: The key to unlocking better projects 🔑 From: Adobe Creative Cloud <mail@mail.adobe.com> Dat...",
          "From: Coursera <Coursera@m.learn.coursera.org><br>Subject: Upskill for the changing tech landscape<br>Text: Subject: Upskill for the changing tech landscape From: Coursera <Coursera@m.learn.coursera.org> Date...",
          "From: contact@serpapi.com<br>Subject: Welcome to SerpApi!<br>Text: Subject: Welcome to SerpApi! From: contact@serpapi.com Date: Sun, 08 Jun 2025 03:03:41 +0000 Hi Mana...",
          "From: no-reply@serpapi.com<br>Subject: Confirmation instructions<br>Text: Subject: Confirmation instructions From: no-reply@serpapi.com Date: Sun, 08 Jun 2025 02:31:11 +0000 ...",
          "From: Coursera <Coursera@m.learn.coursera.org><br>Subject: Three truths about success, and so much more<br>Text: Subject: Three truths about success, and so much more From: Coursera <Coursera@m.learn.coursera.org>...",
          "From: Codeforces@codeforces.com<br>Subject: Codeforces Round 1029 (Div. 3)<br>Text: Subject: Codeforces Round 1029 (Div. 3) From: Codeforces@codeforces.com Date: Sat, 7 Jun 2025 20:39:...",
          "From: The Forage Team <admin@theforage.com><br>Subject: Forage / Manas<br>Text: Subject: Forage / Manas From: The Forage Team <admin@theforage.com> Date: Sat, 07 Jun 2025 11:25:07 ...",
          "From: Coursera <Coursera@m.learn.coursera.org><br>Subject: Apply now: a degree that works with your schedule<br>Text: Subject: Apply now: a degree that works with your schedule From: Coursera <Coursera@m.learn.coursera...",
          "From: AB527 <notifications@github.com><br>Subject: Re: [manaspros/tribel] Sync (PR #6)<br>Text: Subject: Re: [manaspros/tribel] Sync (PR #6) From: AB527 <notifications@github.com> Date: Fri, 06 Ju...",
          "From: \"vercel[bot]\" <notifications@github.com><br>Subject: Re: [manaspros/tribel] Sync (PR #6)<br>Text: Subject: Re: [manaspros/tribel] Sync (PR #6) From: \"vercel[bot]\" <notifications@github.com> Date: Fr...",
          "From: AB527 <notifications@github.com><br>Subject: [manaspros/tribel] Sync (PR #6)<br>Text: Subject: [manaspros/tribel] Sync (PR #6) From: AB527 <notifications@github.com> Date: Fri, 06 Jun 20...",
          "From: JioMart <offers@mailer.jiomart.com><br>Subject: Super Saver Sale on Groceries🛒🛍️<br>Text: Subject: Super Saver Sale on Groceries🛒🛍️ From: JioMart <offers@mailer.jiomart.com> Date: Fri, 06 Ju...",
          "From: Vaadin Team <team@vaadin.com><br>Subject: Did you miss our latest report on Java in 2025?<br>Text: Subject: Did you miss our latest report on Java in 2025? From: Vaadin Team <team@vaadin.com> Date: F...",
          "From: LeetCode <no-reply@leetcode.com><br>Subject: LeetCode Weekly Digest<br>Text: Subject: LeetCode Weekly Digest From: LeetCode <no-reply@leetcode.com> Date: Thu, 5 Jun 2025 20:07:1...",
          "From: Amanda at DataCamp <team@datacamp.com><br>Subject: Last chance: Free access is expiring<br>Text: Subject: Last chance: Free access is expiring From: Amanda at DataCamp <team@datacamp.com> Date: Thu...",
          "From: Auth0 Support Team <no-reply-support@auth0.com><br>Subject: Need support with Auth0? I’m here to help!<br>Text: Subject: Need support with Auth0? I’m here to help! From: Auth0 Support Team <no-reply-support@auth0...",
          "From: Spotify <no-reply@alerts.spotify.com><br>Subject: 363083 - Your Spotify login code<br>Text: Subject: 363083 - Your Spotify login code From: Spotify <no-reply@alerts.spotify.com> Date: Thu, 05 ...",
          "From: Spline Hackathon <hello@mail.spline.design><br>Subject: 🔧 Join the Spline x Contra hackathon<br>Text: Subject: 🔧 Join the Spline x Contra hackathon From: Spline Hackathon <hello@mail.spline.design> Date...",
          "From: BookMyShow <no-reply@entertainment.bookmyshow.com><br>Subject: One movie. Two endings 🤔 How? Watch Housefull 5 to know!<br>Text: Subject: One movie. Two endings 🤔 How? Watch Housefull 5 to know! From: BookMyShow <no-reply@enterta...",
          "From: Devfolio <hello@devfolio.co><br>Subject: Four Hackathons, $300k+ in Prizes, Infinite Possibilities<br>Text: Subject: Four Hackathons, $300k+ in Prizes, Infinite Possibilities From: Devfolio <hello@devfolio.co...",
          "From: Adobe for Photographers <mail@mail.adobe.com><br>Subject: Take a selfie, make it sparkle<br>Text: Subject: Take a selfie, make it sparkle From: Adobe for Photographers <mail@mail.adobe.com> Date: We...",
          "From: Ishaan <noreply@github.com><br>Subject: sim-daas invited you to sim-daas/roslearn<br>Text: Subject: sim-daas invited you to sim-daas/roslearn From: Ishaan <noreply@github.com> Date: Wed, 04 J...",
          "From: LeetCode <no-reply@leetcode.com><br>Subject: Manas, Join LeetCode Contest and get ready for interview prep!<br>Text: Subject: Manas, Join LeetCode Contest and get ready for interview prep! From: LeetCode <no-reply@lee...",
          "From: Coursera <Coursera@m.learn.coursera.org><br>Subject: Transform your future with flexible online learning<br>Text: Subject: Transform your future with flexible online learning From: Coursera <Coursera@m.learn.course...",
          "From: Coursera <Coursera@m.learn.coursera.org><br>Subject: New job-ready skills await!<br>Text: Subject: New job-ready skills await! From: Coursera <Coursera@m.learn.coursera.org> Date: Wed, 04 Ju...",
          "From: X <verify@x.com><br>Subject: New login to X from ChromeDesktop on Windows<br>Text: Subject: New login to X from ChromeDesktop on Windows From: X <verify@x.com> Date: Wed, 04 Jun 2025 ...",
          "From: X <verify@x.com><br>Subject: Security alert: new or unusual X login<br>Text: Subject: Security alert: new or unusual X login From: X <verify@x.com> Date: Wed, 04 Jun 2025 10:38:...",
          "From: X <verify@x.com><br>Subject: Security alert: new or unusual X login<br>Text: Subject: Security alert: new or unusual X login From: X <verify@x.com> Date: Wed, 04 Jun 2025 10:37:...",
          "From: Canva <marketing@engage.canva.com><br>Subject: Good news alert!<br>Text: Subject: Good news alert! From: Canva <marketing@engage.canva.com> Date: Wed, 04 Jun 2025 03:45:28 +...",
          "From: Miikka from Vaadin <miikka@vaadin.com><br>Subject: Live roundtable with Vaadin Champions today<br>Text: Subject: Live roundtable with Vaadin Champions today From: Miikka from Vaadin <miikka@vaadin.com> Da...",
          "From: DataCamp Insights <team@datacamp.com><br>Subject: Your Free Access awaits + what’s new!<br>Text: Subject: Your Free Access awaits + what’s new! From: DataCamp Insights <team@datacamp.com> Date: Tue...",
          "From: Coursera <Coursera@m.learn.coursera.org><br>Subject: Save money if you take multiple courses this year<br>Text: Subject: Save money if you take multiple courses this year From: Coursera <Coursera@m.learn.coursera...",
          "From: Yuvi from Hugging Face <yuvraj@huggingface.co><br>Subject: 🚀Kickoff event - Gradio Agents & MCP Hackathon<br>Text: Subject: 🚀Kickoff event - Gradio Agents & MCP Hackathon From: Yuvi from Hugging Face <yuvraj@hugging...",
          "From: GitHub <noreply@github.com><br>Subject: [GitHub] A third-party OAuth application has been added to your account<br>Text: Subject: [GitHub] A third-party OAuth application has been added to your account From: GitHub <norep...",
          "From: Spline Tutorials <hello@mail.spline.design><br>Subject: 📂 New Tutorial: Gradients & Blur with Hana<br>Text: Subject: 📂 New Tutorial: Gradients & Blur with Hana From: Spline Tutorials <hello@mail.spline.design...",
          "From: bigbasket <alert@info.bigbasket.com><br>Subject: It's time for the Final Challenge for you and RCB🏆<br>Text: Subject: It's time for the Final Challenge for you and RCB🏆 From: bigbasket <alert@info.bigbasket.co...",
          "From: GitHub <noreply@github.com><br>Subject: [GitHub] Your Dependabot alerts for the week of May 27 - Jun 3<br>Text: Subject: [GitHub] Your Dependabot alerts for the week of May 27 - Jun 3 From: GitHub <noreply@github...",
          "From: Amazon Web Services <aws-marketing-email-replies@amazon.com><br>Subject: You're Invited. Apply today for $300 AWS credits<br>Text: Subject: You're Invited. Apply today for $300 AWS credits From: Amazon Web Services <aws-marketing-e...",
          "From: Codeforces@codeforces.com<br>Subject: Educational Codeforces Round 179 (Rated for Div. 2)<br>Text: Subject: Educational Codeforces Round 179 (Rated for Div. 2) From: Codeforces@codeforces.com Date: M...",
          "From: DataCamp <team@datacamp.com><br>Subject: Congrats, Manas: Free Access until June 8!<br>Text: Subject: Congrats, Manas: Free Access until June 8! From: DataCamp <team@datacamp.com> Date: Mon, 02...",
          "From: Coursera <Coursera@m.learn.coursera.org><br>Subject: Still thinking about upskilling your students?<br>Text: Subject: Still thinking about upskilling your students? From: Coursera <Coursera@m.learn.coursera.or...",
          "From: \"“Google AI Studio”\" <googleaistudio-noreply@google.com><br>Subject: [Reminder] Migrate to Gemini 2.0 to avoid errors in your models<br>Text: Subject: [Reminder] Migrate to Gemini 2.0 to avoid errors in your models From: \"“Google AI Studio”\" ...",
          "From: Miikka from Vaadin <miikka@vaadin.com><br>Subject: This Wednesday: Java experts share field insights <br>Text: Subject: This Wednesday: Java experts share field insights From: Miikka from Vaadin <miikka@vaadin.c...",
          "From: GitKraken <no-reply@gitkraken.com><br>Subject: Final Hours: GitSmarterWeek Ends Tonight<br>Text: Subject: Final Hours: GitSmarterWeek Ends Tonight From: GitKraken <no-reply@gitkraken.com> Date: Mon...",
          "From: Accenture Nordics - Forage <admin@theforage.com><br>Subject: Build skills that will get you hired<br>Text: Subject: Build skills that will get you hired From: Accenture Nordics - Forage <admin@theforage.com>...",
          "From: JioMart <offers@mailer.jiomart.com><br>Subject: LIVE: Fashion Spotlight Sale<br>Text: Subject: LIVE: Fashion Spotlight Sale From: JioMart <offers@mailer.jiomart.com> Date: Mon, 02 Jun 20...",
          "From: Canva <marketing@engage.canva.com><br>Subject: Good news alert!<br>Text: Subject: Good news alert! From: Canva <marketing@engage.canva.com> Date: Mon, 02 Jun 2025 04:52:26 +...",
          "From: Coursera <Coursera@m.learn.coursera.org><br>Subject: Why Is Coursera Plus worth the investment?<br>Text: Subject: Why Is Coursera Plus worth the investment? From: Coursera <Coursera@m.learn.coursera.org> D...",
          "From: Coursera <Coursera@m.learn.coursera.org><br>Subject: Interested in becoming a digital marketer?<br>Text: Subject: Interested in becoming a digital marketer? From: Coursera <Coursera@m.learn.coursera.org> D...",
          "From: Firebase <firebase-noreply@google.com><br>Subject: [Firebase] Shubham Gupta added you as a collaborator on the project 'tribalmuseum'<br>Text: Subject: [Firebase] Shubham Gupta added you as a collaborator on the project 'tribalmuseum' From: Fi...",
          "From: Shubham Gupta <noreply@github.com><br>Subject: shubham-gupta0 invited you to shubham-gupta0/tribal_backend<br>Text: Subject: shubham-gupta0 invited you to shubham-gupta0/tribal_backend From: Shubham Gupta <noreply@gi...",
          "From: Udemy <hello@alerts.udemy.com><br>Subject: Order complete! Start learning now.<br>Text: Subject: Order complete! Start learning now. From: Udemy <hello@alerts.udemy.com> Date: Sun, 01 Jun ...",
          "From: \"Accenture Nordics (Forage)\" <admin@theforage.com><br>Subject: Welcome to the Accenture Nordics Software Engineering job simulation<br>Text: Subject: Welcome to the Accenture Nordics Software Engineering job simulation From: \"Accenture Nordi...",
          "From: Forage <admin@theforage.com><br>Subject: Welcome to Forage!<br>Text: Subject: Welcome to Forage! From: Forage <admin@theforage.com> Date: Sat, 31 May 2025 11:15:05 +0000...",
          "From: Google Developers <GoogleDevelopers-noreply@google.com><br>Subject: [Action Advised] Protect your applications and enhance your security<br>Text: Subject: [Action Advised] Protect your applications and enhance your security From: Google Developer...",
          "From: Taj InnerCircle <Innercircle@tajhotels.com><br>Subject: Rewards Reimagined: Your Taj InnerCircle Silver membership, now with elevated privileges!<br>Text: Subject: Rewards Reimagined: Your Taj InnerCircle Silver membership, now with elevated privileges! F...",
          "From: noreply@codeforces.com<br>Subject: Codeforces Round 1028<br>Text: Subject: Codeforces Round 1028 From: noreply@codeforces.com Date: Fri, 30 May 2025 22:16:49 +0300 (M...",
          "From: Microsoft Rewards <MicrosoftRewards@infoemail.microsoft.com><br>Subject: Important update to your Microsoft Rewards account<br>Text: Subject: Important update to your Microsoft Rewards account From: Microsoft Rewards <MicrosoftReward...",
          "From: Vercel <ship@info.vercel.com><br>Subject: Almost sold out: Vercel Ship 2025 in NYC<br>Text: Subject: Almost sold out: Vercel Ship 2025 in NYC From: Vercel <ship@info.vercel.com> Date: Fri, 30 ...",
          "From: GitKraken <no-reply@gitkraken.com><br>Subject: Still thinking about GitKraken Pro? It’s not too late to save 80% or more<br>Text: Subject: Still thinking about GitKraken Pro? It’s not too late to save 80% or more From: GitKraken <...",
          "From: Spline Tutorials <hello@mail.spline.design><br>Subject: 📂 New Tutorial: Mouse Interaction with Hana<br>Text: Subject: 📂 New Tutorial: Mouse Interaction with Hana From: Spline Tutorials <hello@mail.spline.desig...",
          "From: Matti from Vaadin <matti@vaadin.com><br>Subject: Highlights from top Java events + a live Java roundtable<br>Text: Subject: Highlights from top Java events + a live Java roundtable From: Matti from Vaadin <matti@vaa...",
          "From: X <verify@x.com><br>Subject: Security alert: new or unusual X login<br>Text: Subject: Security alert: new or unusual X login From: X <verify@x.com> Date: Fri, 30 May 2025 04:46:...",
          "From: X <verify@x.com><br>Subject: Security alert: new or unusual X login<br>Text: Subject: Security alert: new or unusual X login From: X <verify@x.com> Date: Fri, 30 May 2025 04:45:...",
          "From: X <verify@x.com><br>Subject: Security alert: new or unusual X login<br>Text: Subject: Security alert: new or unusual X login From: X <verify@x.com> Date: Fri, 30 May 2025 04:45:...",
          "From: LeetCode <no-reply@leetcode.com><br>Subject: LeetCode Weekly Digest<br>Text: Subject: LeetCode Weekly Digest From: LeetCode <no-reply@leetcode.com> Date: Fri, 30 May 2025 02:55:...",
          "From: DataCamp <team@datacamp.com><br>Subject: RADAR: AI is coming soon. Will you be there?<br>Text: Subject: RADAR: AI is coming soon. Will you be there? From: DataCamp <team@datacamp.com> Date: Thu, ...",
          "From: Coursera <Coursera@m.learn.coursera.org><br>Subject: Finish a course in just 8 hours<br>Text: Subject: Finish a course in just 8 hours From: Coursera <Coursera@m.learn.coursera.org> Date: Thu, 2...",
          "From: GitHub Education <githubeducation@github.com><br>Subject: 🗞️ manaspros, Build highlights, hackathons, roadmaps, bootcamps & guides!<br>Text: Subject: 🗞️ manaspros, Build highlights, hackathons, roadmaps, bootcamps & guides! From: GitHub Educ...",
          "From: Devpost <support@devpost.com><br>Subject: Your next big build: Adobe, Google Maps, Forge & More →<br>Text: Subject: Your next big build: Adobe, Google Maps, Forge & More → From: Devpost <support@devpost.com>...",
          "From: \"'Google Maps'\" <google-maps-noreply@google.com><br>Subject: Google Maps annual reminder<br>Text: Subject: Google Maps annual reminder From: \"'Google Maps'\" <google-maps-noreply@google.com> Date: Th...",
          "From: bigbasket <alert@info.bigbasket.com><br>Subject: It's time to pick your RCB card❤️<br>Text: Subject: It's time to pick your RCB card❤️ From: bigbasket <alert@info.bigbasket.com> Date: Thu, 29 ...",
          "From: JioMart <offers@mailer.jiomart.com><br>Subject: LIVE: Fashion Spotlight Sale<br>Text: Subject: LIVE: Fashion Spotlight Sale From: JioMart <offers@mailer.jiomart.com> Date: Thu, 29 May 20...",
          "From: LeetCode <no-reply@leetcode.com><br>Subject: Manas, Join LeetCode Contest and get ready for interview prep!<br>Text: Subject: Manas, Join LeetCode Contest and get ready for interview prep! From: LeetCode <no-reply@lee...",
          "From: DataCamp <team@datacamp.com><br>Subject: [₹6450 Off] Last Chance!<br>Text: Subject: [₹6450 Off] Last Chance! From: DataCamp <team@datacamp.com> Date: Wed, 28 May 2025 18:43:46...",
          "From: Spline Team <hello@mail.spline.design><br>Subject: 🔥 Progressive Blur in Hana by Spline<br>Text: Subject: 🔥 Progressive Blur in Hana by Spline From: Spline Team <hello@mail.spline.design> Date: Wed...",
          "From: Vaadin Team <team@vaadin.com><br>Subject: Starting Java projects: Lessons from the field<br>Text: Subject: Starting Java projects: Lessons from the field From: Vaadin Team <team@vaadin.com> Date: We...",
          "From: freetier@costalerts.amazonaws.com<br>Subject: AWS Free Tier limit alert<br>Text: Subject: AWS Free Tier limit alert From: freetier@costalerts.amazonaws.com Date: Wed, 28 May 2025 16...",
          "From: GitGuardian <security@getgitguardian.com><br>Subject: [manaspros/Custom-Web-Desktop] OpenWeatherMap Token exposed on GitHub<br>Text: Subject: [manaspros/Custom-Web-Desktop] OpenWeatherMap Token exposed on GitHub From: GitGuardian <se...",
          "From: MongoDB <mongodbteam@messages.mongodb.com><br>Subject: Join us at MongoDB.local in India!<br>Text: Subject: Join us at MongoDB.local in India! From: MongoDB <mongodbteam@messages.mongodb.com> Date: W...",
          "From: freetier@costalerts.amazonaws.com<br>Subject: AWS Free Tier limit alert<br>Text: Subject: AWS Free Tier limit alert From: freetier@costalerts.amazonaws.com Date: Wed, 28 May 2025 03...",
          "From: GitHub <noreply@github.com><br>Subject: [GitHub] Your Dependabot alerts for the week of May 21 - May 28<br>Text: Subject: [GitHub] Your Dependabot alerts for the week of May 21 - May 28 From: GitHub <noreply@githu...",
          "From: DataCamp Insights <team@datacamp.com><br>Subject: Free Course: Introduction to Polars<br>Text: Subject: Free Course: Introduction to Polars From: DataCamp Insights <team@datacamp.com> Date: Tue, ...",
          "From: Coursera <Coursera@m.learn.coursera.org><br>Subject: Courses you can complete in 8 hours or less<br>Text: Subject: Courses you can complete in 8 hours or less From: Coursera <Coursera@m.learn.coursera.org> ...",
          "From: Hugging Face Team <benjamin.burtenshaw@huggingface.co><br>Subject: Agent Course: Apply Agentic RAG to real-world use cases 🤖<br>Text: Subject: Agent Course: Apply Agentic RAG to real-world use cases 🤖 From: Hugging Face Team <benjamin...",
          "From: GitKraken <no-reply@gitkraken.com><br>Subject: GitKraken Pro Sale Extended<br>Text: Subject: GitKraken Pro Sale Extended From: GitKraken <no-reply@gitkraken.com> Date: Tue, 27 May 2025...",
          "From: HR Labmentix <avez.shaikh@labmentix.in><br>Subject: Struggling to Get Your Foot in IT? Get Real Experience with Labmentix<br>Text: Subject: Struggling to Get Your Foot in IT? Get Real Experience with Labmentix From: HR Labmentix <a...",
          "From: Yuvi from Hugging Face <yuvraj@huggingface.co><br>Subject: 🚀 Gradio Agents & MCP Hackathon 2025<br>Text: Subject: 🚀 Gradio Agents & MCP Hackathon 2025 From: Yuvi from Hugging Face <yuvraj@huggingface.co> D...",
          "From: Ben at Hugging Face <benjamin.burtenshaw@huggingface.co><br>Subject: Hugging Face MCP Course - Live Stream<br>Text: Subject: Hugging Face MCP Course - Live Stream From: Ben at Hugging Face <benjamin.burtenshaw@huggin...",
          "From: The Pierre - A Taj Hotel New York <thepierre.ny@tajhotels.com><br>Subject: A Met Gala Moment at The Pierre<br>Text: Subject: A Met Gala Moment at The Pierre From: The Pierre - A Taj Hotel New York <thepierre.ny@tajho...",
          "From: \"Nand F (via Google Sheets)\" <drive-shares-dm-noreply@google.com><br>Subject: Spreadsheet shared with you: ‘Report’<br>Text: Subject: Spreadsheet shared with you: ‘Report’ From: \"Nand F (via Google Sheets)\" <drive-shares-dm-n...",
          "From: GitKraken <no-reply@gitkraken.com><br>Subject: Last Day to Save 80%+<br>Text: Subject: Last Day to Save 80%+ From: GitKraken <no-reply@gitkraken.com> Date: Mon, 26 May 2025 09:03...",
          "From: Adobe Creative Cloud <mail@mail.adobe.com><br>Subject: Cloud storage = peace of mind 🧘<br>Text: Subject: Cloud storage = peace of mind 🧘 From: Adobe Creative Cloud <mail@mail.adobe.com> Date: Sun,...",
          "From: GitHub <noreply@github.com><br>Subject: [GitHub] A third-party OAuth application has been added to your account<br>Text: Subject: [GitHub] A third-party OAuth application has been added to your account From: GitHub <norep...",
          "From: Codeforces@codeforces.com<br>Subject: Codeforces Round 1027 (Div. 3)<br>Text: Subject: Codeforces Round 1027 (Div. 3) From: Codeforces@codeforces.com Date: Sun, 25 May 2025 19:53...",
          "From: Cassie from Devpost <cassie@devpost.com><br>Subject: HACKATHONS just for you, Manas<br>Text: Subject: HACKATHONS just for you, Manas From: Cassie from Devpost <cassie@devpost.com> Date: Sun, 25...",
          "From: \"'Samsung India'\" <orders@shopping.in.samsung.com><br>Subject: You left some items in your cart<br>Text: Subject: You left some items in your cart From: \"'Samsung India'\" <orders@shopping.in.samsung.com> D...",
          "From: Coursera <Coursera@m.learn.coursera.org><br>Subject: Welcome to a wonderful world of learning<br>Text: Subject: Welcome to a wonderful world of learning From: Coursera <Coursera@m.learn.coursera.org> Dat...",
          "From: Codeforces@codeforces.com<br>Subject: Codeforces Round 1026 (Div. 2)<br>Text: Subject: Codeforces Round 1026 (Div. 2) From: Codeforces@codeforces.com Date: Sat, 24 May 2025 00:18...",
          "From: Vercel <ship@info.vercel.com><br>Subject: Vercel Monthy Product Update<br>Text: Subject: Vercel Monthy Product Update From: Vercel <ship@info.vercel.com> Date: Fri, 23 May 2025 21:...",
          "From: bigbasket <alert@info.bigbasket.com><br>Subject: bigbasketeer, pick the RCB card and Win❤️<br>Text: Subject: bigbasketeer, pick the RCB card and Win❤️ From: bigbasket <alert@info.bigbasket.com> Date: ...",
          "From: GitHub <noreply@github.com><br>Subject: [GitHub] A personal access token (classic) has been added to your account<br>Text: Subject: [GitHub] A personal access token (classic) has been added to your account From: GitHub <nor...",
          "From: HeyAlbert <info@heyalbert.co><br>Subject: The gamer’s cheat code to destroy bad habits<br>Text: Subject: The gamer’s cheat code to destroy bad habits From: HeyAlbert <info@heyalbert.co> Date: Fri,...",
          "From: LeetCode <no-reply@leetcode.com><br>Subject: LeetCode Weekly Digest<br>Text: Subject: LeetCode Weekly Digest From: LeetCode <no-reply@leetcode.com> Date: Thu, 22 May 2025 21:14:...",
          "From: Ben from Hugging Face <benjamin.burtenshaw@huggingface.co><br>Subject: Your next course on agents: The MCP Course<br>Text: Subject: Your next course on agents: The MCP Course From: Ben from Hugging Face <benjamin.burtenshaw...",
          "From: Udemy <no-reply@e.udemymail.com><br>Subject: Udemy Login: Here's the 6-digit verification code you requested<br>Text: Subject: Udemy Login: Here's the 6-digit verification code you requested From: Udemy <no-reply@e.ude...",
          "From: GitHub <noreply@github.com><br>Subject: [GitHub] A new SSH authentication public key was added to your account<br>Text: Subject: [GitHub] A new SSH authentication public key was added to your account From: GitHub <norepl...",
          "From: GitHub <noreply@github.com><br>Subject: [GitHub] A fine-grained personal access token has been added to your account<br>Text: Subject: [GitHub] A fine-grained personal access token has been added to your account From: GitHub <...",
          "From: Docker <no-reply@notify.docker.com><br>Subject: [Docker] You + Docker = Ready for Action<br>Text: Subject: [Docker] You + Docker = Ready for Action From: Docker <no-reply@notify.docker.com> Date: Th...",
          "From: GitHub <noreply@github.com><br>Subject: [GitHub] A third-party GitHub Application has been added to your account<br>Text: Subject: [GitHub] A third-party GitHub Application has been added to your account From: GitHub <nore...",
          "From: BookMyShow <no-reply@entertainment.bookmyshow.com><br>Subject: Inside: The marriage invite for an atki hui Shaadi 😰<br>Text: Subject: Inside: The marriage invite for an atki hui Shaadi 😰 From: BookMyShow <no-reply@entertainme...",
          "From: AWS India <aws-india-marketing@amazon.com><br>Subject: Join AWS Summit India Online | Experience the future of cloud & AI<br>Text: Subject: Join AWS Summit India Online | Experience the future of cloud & AI From: AWS India <aws-ind...",
          "From: LeetCode <no-reply@leetcode.com><br>Subject: Manas, Join LeetCode Contest and get ready for interview prep!<br>Text: Subject: Manas, Join LeetCode Contest and get ready for interview prep! From: LeetCode <no-reply@lee...",
          "From: Amanda at DataCamp <team@datacamp.com><br>Subject: ₹6450 Off: Your future in data deserves this<br>Text: Subject: ₹6450 Off: Your future in data deserves this From: Amanda at DataCamp <team@datacamp.com> D...",
          "From: Ivan at Notion <ivan@mail.notion.so><br>Subject: Notion 2.51: AI Meeting Notes, faster search, and more!<br>Text: Subject: Notion 2.51: AI Meeting Notes, faster search, and more! From: Ivan at Notion <ivan@mail.not...",
          "From: Google <no-reply@accounts.google.com><br>Subject: Security alert for manasstudy00@gmail.com<br>Text: Subject: Security alert for manasstudy00@gmail.com From: Google <no-reply@accounts.google.com> Date:...",
          "From: Google <no-reply@accounts.google.com><br>Subject: Security alert for manasstudy00@gmail.com<br>Text: Subject: Security alert for manasstudy00@gmail.com From: Google <no-reply@accounts.google.com> Date:...",
          "From: bigbasket <alert@info.bigbasket.com><br>Subject: Which Mango is Calling Your Name?🥭<br>Text: Subject: Which Mango is Calling Your Name?🥭 From: bigbasket <alert@info.bigbasket.com> Date: Wed, 21...",
          "From: HeyAlbert <info@heyalbert.co><br>Subject: Gamer's way of leveling up in life<br>Text: Subject: Gamer's way of leveling up in life From: HeyAlbert <info@heyalbert.co> Date: Wed, 21 May 20...",
          "From: Taj InnerCircle <innercircle@tajhotels.com><br>Subject: Twice the Taste - Delightful Benefits on Dining<br>Text: Subject: Twice the Taste - Delightful Benefits on Dining From: Taj InnerCircle <innercircle@tajhotel...",
          "From: DataCamp Insights <team@datacamp.com><br>Subject: New Java Course + Upcoming Events!<br>Text: Subject: New Java Course + Upcoming Events! From: DataCamp Insights <team@datacamp.com> Date: Tue, 2...",
          "From: Taj InnerCircle <innercircle@tajhotels.com><br>Subject: Twice the Taste - Delightful Benefits on Dining<br>Text: Subject: Twice the Taste - Delightful Benefits on Dining From: Taj InnerCircle <innercircle@tajhotel...",
          "From: Hugging Face Team <thomas.simonini@huggingface.co><br>Subject: Agent Course: Let’s learn about AI Agent Observability & Evaluation! 🤖<br>Text: Subject: Agent Course: Let’s learn about AI Agent Observability & Evaluation! 🤖 From: Hugging Face T...",
          "From: GitHub <noreply@github.com><br>Subject: [GitHub] Your Dependabot alerts for the week of May 13 - May 20<br>Text: Subject: [GitHub] Your Dependabot alerts for the week of May 13 - May 20 From: GitHub <noreply@githu...",
          "From: DataCamp <team@datacamp.com><br>Subject: Now Trending: Data Engineering<br>Text: Subject: Now Trending: Data Engineering From: DataCamp <team@datacamp.com> Date: Mon, 19 May 2025 19...",
          "From: GitKraken <support@gitkraken.com><br>Subject: Product Update: Visual History Reimagined in GitLens 17.1<br>Text: Subject: Product Update: Visual History Reimagined in GitLens 17.1 From: GitKraken <support@gitkrake...",
          "From: GitKraken <no-reply@gitkraken.com><br>Subject: GitSmarterWeek is here! Save 80% on GitKraken Pro<br>Text: Subject: GitSmarterWeek is here! Save 80% on GitKraken Pro From: GitKraken <no-reply@gitkraken.com> ...",
          "From: \"Albert from heyalbert.co\" <albert@heyalbert.co><br>Subject: How to Set Up Your LiFE RPG System<br>Text: Subject: How to Set Up Your LiFE RPG System From: \"Albert from heyalbert.co\" <albert@heyalbert.co> D...",
          "From: Codeforces@codeforces.com<br>Subject: Codeforces Round 1025 (Div. 2)<br>Text: Subject: Codeforces Round 1025 (Div. 2) From: Codeforces@codeforces.com Date: Fri, 16 May 2025 21:46...",
          "From: MongoDB <mongodb@team.mongodb.com><br>Subject: Developer Digest: New natural language capabilities and skills badges<br>Text: Subject: Developer Digest: New natural language capabilities and skills badges From: MongoDB <mongod...",
          "From: LeetCode <no-reply@leetcode.com><br>Subject: LeetCode Weekly Digest<br>Text: Subject: LeetCode Weekly Digest From: LeetCode <no-reply@leetcode.com> Date: Thu, 15 May 2025 20:16:...",
          "From: DataCamp <team@datacamp.com><br>Subject: ✉️ Your invitation to RADAR<br>Text: Subject: ✉️ Your invitation to RADAR From: DataCamp <team@datacamp.com> Date: Thu, 15 May 2025 19:58...",
          "From: Devpost <support@devpost.com><br>Subject: New AI Challenge, New Jobs & More Hackathons<br>Text: Subject: New AI Challenge, New Jobs & More Hackathons From: Devpost <support@devpost.com> Date: Thu,...",
          "From: MongoDB <mongodb@alerts.mongodb.com><br>Subject: [Action Required] MongoDB Releases Async PyMongo, Motor Deprecated<br>Text: Subject: [Action Required] MongoDB Releases Async PyMongo, Motor Deprecated From: MongoDB <mongodb@a...",
          "From: LeetCode <no-reply@leetcode.com><br>Subject: Manas, Join LeetCode Contest and get ready for interview prep!<br>Text: Subject: Manas, Join LeetCode Contest and get ready for interview prep! From: LeetCode <no-reply@lee...",
          "From: Vaadin Team <team@vaadin.com><br>Subject: Live today: Upgrading legacy Vaadin apps<br>Text: Subject: Live today: Upgrading legacy Vaadin apps From: Vaadin Team <team@vaadin.com> Date: Wed, 14 ...",
          "From: DataCamp Insights <team@datacamp.com><br>Subject: Just for you: Python Cheat Sheets<br>Text: Subject: Just for you: Python Cheat Sheets From: DataCamp Insights <team@datacamp.com> Date: Tue, 13...",
          "From: Google Tag Manager <tagmanager-noreply@google.com><br>Subject: Set up a Google tag on your website<br>Text: Subject: Set up a Google tag on your website From: Google Tag Manager <tagmanager-noreply@google.com...",
          "From: Hugging Face Team <thomas.simonini@huggingface.co><br>Subject: 🤖 Agents Course: New Unit on LangGraph library!<br>Text: Subject: 🤖 Agents Course: New Unit on LangGraph library! From: Hugging Face Team <thomas.simonini@hu...",
          "From: Spline Team <hello@mail.spline.design><br>Subject: New Hana Tutorial: 2D Follow Effect<br>Text: Subject: New Hana Tutorial: 2D Follow Effect From: Spline Team <hello@mail.spline.design> Date: Tue,...",
          "From: \"'Google Maps'\" <google-maps-noreply@google.com><br>Subject: The location that you updated on Maps is getting noticed<br>Text: Subject: The location that you updated on Maps is getting noticed From: \"'Google Maps'\" <google-maps...",
          "From: GitHub <noreply@github.com><br>Subject: [GitHub] Your Dependabot alerts for the week of May 6 - May 13<br>Text: Subject: [GitHub] Your Dependabot alerts for the week of May 6 - May 13 From: GitHub <noreply@github...",
          "From: Vaadin Team <team@vaadin.com><br>Subject: The most anticipated Java report for 2025<br>Text: Subject: The most anticipated Java report for 2025 From: Vaadin Team <team@vaadin.com> Date: Mon, 12...",
          "From: GitHub <noreply@github.com><br>Subject: [GitHub] A third-party OAuth application has been added to your account<br>Text: Subject: [GitHub] A third-party OAuth application has been added to your account From: GitHub <norep...",
          "From: JioMart <offers@mailer.jiomart.com><br>Subject: Mega Deals on Electronics | Shop Now on JioMart!<br>Text: Subject: Mega Deals on Electronics | Shop Now on JioMart! From: JioMart <offers@mailer.jiomart.com> ...",
          "From: Udemy <no-reply@e.udemymail.com><br>Subject: Order declined<br>Text: Subject: Order declined From: Udemy <no-reply@e.udemymail.com> Date: Sun, 11 May 2025 09:58:54 +0000...",
          "From: noreply@codeforces.com<br>Subject: Codeforces Round 1024<br>Text: Subject: Codeforces Round 1024 From: noreply@codeforces.com Date: Sat, 10 May 2025 22:49:08 +0300 (M...",
          "From: Cassie from Devpost <cassie@devpost.com><br>Subject: HACKATHONS just for you, Manas<br>Text: Subject: HACKATHONS just for you, Manas From: Cassie from Devpost <cassie@devpost.com> Date: Sat, 10...",
          "From: Canva <marketing@engage.canva.com><br>Subject: Just published a presentation?<br>Text: Subject: Just published a presentation? From: Canva <marketing@engage.canva.com> Date: Fri, 09 May 2...",
          "From: LeetCode <no-reply@leetcode.com><br>Subject: LeetCode Weekly Digest<br>Text: Subject: LeetCode Weekly Digest From: LeetCode <no-reply@leetcode.com> Date: Fri, 9 May 2025 02:01:5...",
          "From: GitHub Education <githubeducation@github.com><br>Subject: GitHub invites you to SF + Boston island + hardware<br>Text: Subject: GitHub invites you to SF + Boston island + hardware From: GitHub Education <githubeducation...",
          "From: Vaadin Team <team@vaadin.com><br>Subject: The best way to upgrade legacy Vaadin apps<br>Text: Subject: The best way to upgrade legacy Vaadin apps From: Vaadin Team <team@vaadin.com> Date: Thu, 8...",
          "From: JioMart <offers@mailer.jiomart.com><br>Subject: 🟢LIVE NOW: FASHION SALE<br>Text: Subject: 🟢LIVE NOW: FASHION SALE From: JioMart <offers@mailer.jiomart.com> Date: Thu, 08 May 2025 11...",
          "From: LeetCode <no-reply@leetcode.com><br>Subject: Manas, Join LeetCode Contest and get ready for interview prep!<br>Text: Subject: Manas, Join LeetCode Contest and get ready for interview prep! From: LeetCode <no-reply@lee...",
          "From: Udemy <no-reply@e.udemymail.com><br>Subject: Social Authentication Added<br>Text: Subject: Social Authentication Added From: Udemy <no-reply@e.udemymail.com> Date: Wed, 07 May 2025 1...",
          "From: MongoDB <mongodbteam@messages.mongodb.com><br>Subject: Learn how to go from SQL to MongoDB Query API<br>Text: Subject: Learn how to go from SQL to MongoDB Query API From: MongoDB <mongodbteam@messages.mongodb.c...",
          "From: Spline Tutorials <hello@mail.spline.design><br>Subject: ✨ New Tutorial: Intro to Hana<br>Text: Subject: ✨ New Tutorial: Intro to Hana From: Spline Tutorials <hello@mail.spline.design> Date: Wed, ...",
          "From: GitKraken <support@gitkraken.com><br>Subject: We’re Sorry. We pushed the wrong price. Here's the hotfix<br>Text: Subject: We’re Sorry. We pushed the wrong price. Here's the hotfix From: GitKraken <support@gitkrake...",
          "From: DataCamp Insights <team@datacamp.com><br>Subject: Free Microsoft Copilot course—offer ends soon ⏰<br>Text: Subject: Free Microsoft Copilot course—offer ends soon ⏰ From: DataCamp Insights <team@datacamp.com>...",
          "From: Hugging Face Team <thomas.simonini@huggingface.co><br>Subject: 🤖 Agents Course: New Unit on LlamaIndex library!<br>Text: Subject: 🤖 Agents Course: New Unit on LlamaIndex library! From: Hugging Face Team <thomas.simonini@h...",
          "From: GitHub <noreply@github.com><br>Subject: [GitHub] Your Dependabot alerts for the week of Apr 29 - May 6<br>Text: Subject: [GitHub] Your Dependabot alerts for the week of Apr 29 - May 6 From: GitHub <noreply@github...",
          "From: DataCamp <team@datacamp.com><br>Subject: You earned it, Manas: ₹6450 off a full year of learning!<br>Text: Subject: You earned it, Manas: ₹6450 off a full year of learning! From: DataCamp <team@datacamp.com>...",
          "From: \"vercel[bot]\" <notifications@github.com><br>Subject: Re: [manaspros/tribel] Revert \"Update\" (PR #5)<br>Text: Subject: Re: [manaspros/tribel] Revert \"Update\" (PR #5) From: \"vercel[bot]\" <notifications@github.co...",
          "From: \"vercel[bot]\" <notifications@github.com><br>Subject: Re: [manaspros/tribel] Update (PR #4)<br>Text: Subject: Re: [manaspros/tribel] Update (PR #4) From: \"vercel[bot]\" <notifications@github.com> Date: ...",
          "From: Codeforces@codeforces.com<br>Subject: Codeforces Round 1023 (Div. 2)<br>Text: Subject: Codeforces Round 1023 (Div. 2) From: Codeforces@codeforces.com Date: Sun, 4 May 2025 16:58:...",
          "From: bigbasket <alert@info.bigbasket.com><br>Subject: 🔴Live: The RCB Quiz<br>Text: Subject: 🔴Live: The RCB Quiz From: bigbasket <alert@info.bigbasket.com> Date: Sat, 03 May 2025 07:58...",
          "From: Taj Hotels - Goa <offers@tajhotels.com><br>Subject: Romancing The Rains in Goa<br>Text: Subject: Romancing The Rains in Goa From: Taj Hotels - Goa <offers@tajhotels.com> Date: Fri, 02 May ...",
          "From: LeetCode <no-reply@leetcode.com><br>Subject: LeetCode Weekly Digest<br>Text: Subject: LeetCode Weekly Digest From: LeetCode <no-reply@leetcode.com> Date: Thu, 1 May 2025 21:41:1...",
          "From: Devpost <support@devpost.com><br>Subject: New AI hackathons to join + we're hiring!<br>Text: Subject: New AI hackathons to join + we're hiring! From: Devpost <support@devpost.com> Date: Thu, 01...",
          "From: bigbasket <alerts@bigbasket.com><br>Subject: Your bigbasket order confirmation ( EXN-1689780804-20250501 )<br>Text: Subject: Your bigbasket order confirmation ( EXN-1689780804-20250501 ) From: bigbasket <alerts@bigba...",
          "From: Tata Neu <noreply@info.tataneu.com><br>Subject: You used 1.63 NeuCoin(s)<br>Text: Subject: You used 1.63 NeuCoin(s) From: Tata Neu <noreply@info.tataneu.com> Date: Thu, 01 May 2025 1...",
          "From: Canva <marketing@engage.canva.com><br>Subject: Create amazing, high-quality videos<br>Text: Subject: Create amazing, high-quality videos From: Canva <marketing@engage.canva.com> Date: Thu, 01 ...",
          "From: LeetCode <no-reply@leetcode.com><br>Subject: Manas, Join LeetCode Contest and get ready for interview prep!<br>Text: Subject: Manas, Join LeetCode Contest and get ready for interview prep! From: LeetCode <no-reply@lee...",
          "From: Codeforces@codeforces.com<br>Subject: Codeforces Round 1022 (Div. 2)<br>Text: Subject: Codeforces Round 1022 (Div. 2) From: Codeforces@codeforces.com Date: Wed, 30 Apr 2025 22:45...",
          "From: GitHub Education <githubeducation@github.com><br>Subject: manaspros, last-chance cert voucher, pick your Copilot model, join Hack Week & talk at Git Merge<br>Text: Subject: manaspros, last-chance cert voucher, pick your Copilot model, join Hack Week & talk at Git ...",
          "From: DataCamp Insights <team@datacamp.com><br>Subject: New Course: Math for Finance Professionals<br>Text: Subject: New Course: Math for Finance Professionals From: DataCamp Insights <team@datacamp.com> Date...",
          "From: Vercel <ship@info.vercel.com><br>Subject: You’re invited: Vercel Ship 2025<br>Text: Subject: You’re invited: Vercel Ship 2025 From: Vercel <ship@info.vercel.com> Date: Tue, 29 Apr 2025...",
          "From: Hugging Face Team <thomas.simonini@huggingface.co><br>Subject: 🤖 Agents Course: New Unit on smolagents library!<br>Text: Subject: 🤖 Agents Course: New Unit on smolagents library! From: Hugging Face Team <thomas.simonini@h...",
          "From: Canva <marketing@engage.canva.com><br>Subject: May the 4th...<br>Text: Subject: May the 4th... From: Canva <marketing@engage.canva.com> Date: Tue, 29 Apr 2025 03:37:55 +00...",
          "From: \"vercel[bot]\" <notifications@github.com><br>Subject: Re: [manaspros/tribel] Update (PR #3)<br>Text: Subject: Re: [manaspros/tribel] Update (PR #3) From: \"vercel[bot]\" <notifications@github.com> Date: ...",
          "From: Sami from Vaadin <sami@vaadin.com><br>Subject: Vaadin goes live on Azure. MQTT in action and Java 24 updates.<br>Text: Subject: Vaadin goes live on Azure. MQTT in action and Java 24 updates. From: Sami from Vaadin <sami...",
          "From: Codeforces@codeforces.com<br>Subject: Educational Codeforces Round 178 (Rated for Div. 2)<br>Text: Subject: Educational Codeforces Round 178 (Rated for Div. 2) From: Codeforces@codeforces.com Date: M...",
          "From: freetier@costalerts.amazonaws.com<br>Subject: AWS Free Tier limit alert<br>Text: Subject: AWS Free Tier limit alert From: freetier@costalerts.amazonaws.com Date: Mon, 28 Apr 2025 00...",
          "From: Spotify <no-reply@spotify.com><br>Subject: You've canceled your Spotify subscription<br>Text: Subject: You've canceled your Spotify subscription From: Spotify <no-reply@spotify.com> Date: Sun, 2...",
          "From: Spotify <no-reply@spotify.com><br>Subject: New login to Spotify<br>Text: Subject: New login to Spotify From: Spotify <no-reply@spotify.com> Date: Sun, 27 Apr 2025 14:44:54 +...",
          "From: Canva <marketing@engage.canva.com><br>Subject: Schedule your next social post straight from Canva<br>Text: Subject: Schedule your next social post straight from Canva From: Canva <marketing@engage.canva.com>...",
          "From: Cassie from Devpost <cassie@devpost.com><br>Subject: HACKATHONS just for you, Manas<br>Text: Subject: HACKATHONS just for you, Manas From: Cassie from Devpost <cassie@devpost.com> Date: Sat, 26...",
          "From: noreply@codeforces.com<br>Subject: Codeforces Round 1021<br>Text: Subject: Codeforces Round 1021 From: noreply@codeforces.com Date: Fri, 25 Apr 2025 18:02:31 +0300 (M...",
          "From: Vaadin Team <team@vaadin.com><br>Subject: Live Coding: Build and deploy a Vaadin app on Azure🚀<br>Text: Subject: Live Coding: Build and deploy a Vaadin app on Azure🚀 From: Vaadin Team <team@vaadin.com> Da...",
          "From: LeetCode <no-reply@leetcode.com><br>Subject: LeetCode Weekly Digest<br>Text: Subject: LeetCode Weekly Digest From: LeetCode <no-reply@leetcode.com> Date: Fri, 25 Apr 2025 03:46:...",
          "From: GitKraken <no-reply@gitkraken.com><br>Subject: AI, Automation, and Smarter Git—April Updates Are Here<br>Text: Subject: AI, Automation, and Smarter Git—April Updates Are Here From: GitKraken <no-reply@gitkraken....",
          "From: Spline Team <hello@mail.spline.design><br>Subject: 🔥 Introducing Hana - A new canvas for interactivity<br>Text: Subject: 🔥 Introducing Hana - A new canvas for interactivity From: Spline Team <hello@mail.spline.de...",
          "From: JioMart <offers@mailer.jiomart.com><br>Subject: Mega Summer Deals on Electronics<br>Text: Subject: Mega Summer Deals on Electronics From: JioMart <offers@mailer.jiomart.com> Date: Thu, 24 Ap...",
          "From: Poe <product-updates@poe.com><br>Subject: Create images with GPT image generation on Poe<br>Text: Subject: Create images with GPT image generation on Poe From: Poe <product-updates@poe.com> Date: Th...",
          "From: \"Amazon.in\" <store-news@amazon.in><br>Subject: CableCreation Micro HDMI to HDMI Cable Male to Female<br>Text: Subject: CableCreation Micro HDMI to HDMI Cable Male to Female From: \"Amazon.in\" <store-news@amazon....",
          "From: Amanda at DataCamp <team@datacamp.com><br>Subject: Save ₹6450: Ends tomorrow<br>Text: Subject: Save ₹6450: Ends tomorrow From: Amanda at DataCamp <team@datacamp.com> Date: Wed, 23 Apr 20...",
          "From: Codeforces@codeforces.com<br>Subject: Codeforces Round 1020 (Div. 3)<br>Text: Subject: Codeforces Round 1020 (Div. 3) From: Codeforces@codeforces.com Date: Wed, 23 Apr 2025 21:44...",
          "From: Devfolio <hello@devfolio.co><br>Subject: Base Batches #001: Build what matters. Change the game.<br>Text: Subject: Base Batches #001: Build what matters. Change the game. From: Devfolio <hello@devfolio.co> ...",
          "From: The Indian Hotels Company Limited <offers@ihcltata.com><br>Subject: Cherishing Togetherness - Enjoy 25% savings* on your stays!<br>Text: Subject: Cherishing Togetherness - Enjoy 25% savings* on your stays! From: The Indian Hotels Company...",
          "From: Spotify <no-reply@legal.spotify.com><br>Subject: We hope you're enjoying Premium Family<br>Text: Subject: We hope you're enjoying Premium Family From: Spotify <no-reply@legal.spotify.com> Date: Tue...",
          "From: Courses TCS <courses@the-cs.org><br>Subject: Oops – No Action Needed!<br>Text: Subject: Oops – No Action Needed! From: Courses TCS <courses@the-cs.org> Date: Tue, 22 Apr 2025 16:2...",
          "From: DataCamp Insights <team@datacamp.com><br>Subject: New Course: Data Visualization in Databricks<br>Text: Subject: New Course: Data Visualization in Databricks From: DataCamp Insights <team@datacamp.com> Da...",
          "From: Hugging Face Team <thomas.simonini@huggingface.co><br>Subject: Let's fine-tune your first AI Agent 🤖<br>Text: Subject: Let's fine-tune your first AI Agent 🤖 From: Hugging Face Team <thomas.simonini@huggingface....",
          "From: GitHub Education <githubeducation@github.com><br>Subject: 🌍 Happy Earth Day manaspros!<br>Text: Subject: 🌍 Happy Earth Day manaspros! From: GitHub Education <githubeducation@github.com> Date: Tue,...",
          "From: GitHub <noreply@github.com><br>Subject: [GitHub] Your Dependabot alerts for the week of Apr 15 - Apr 22<br>Text: Subject: [GitHub] Your Dependabot alerts for the week of Apr 15 - Apr 22 From: GitHub <noreply@githu...",
          "From: Vaadin Team <team@vaadin.com><br>Subject: Join us for a live look at Vaadin Copilot<br>Text: Subject: Join us for a live look at Vaadin Copilot From: Vaadin Team <team@vaadin.com> Date: Tue, 22...",
          "From: GitHub <noreply@github.com><br>Subject: [GitHub] An email address was added to your account.<br>Text: Subject: [GitHub] An email address was added to your account. From: GitHub <noreply@github.com> Date...",
          "From: GitHub <noreply@github.com><br>Subject: [GitHub] An email address was removed from your account.<br>Text: Subject: [GitHub] An email address was removed from your account. From: GitHub <noreply@github.com> ...",
          "From: GitHub <noreply@github.com><br>Subject: You have codespaces that are about to be deleted<br>Text: Subject: You have codespaces that are about to be deleted From: GitHub <noreply@github.com> Date: Mo...",
          "From: Codeforces@codeforces.com<br>Subject: Codeforces Round 1019 (Div. 2)<br>Text: Subject: Codeforces Round 1019 (Div. 2) From: Codeforces@codeforces.com Date: Sun, 20 Apr 2025 17:37...",
          "From: Codeforces@codeforces.com<br>Subject: Tact Smart Battle 1 (open for everybody, prizes)<br>Text: Subject: Tact Smart Battle 1 (open for everybody, prizes) From: Codeforces@codeforces.com Date: Sun,...",
          "From: Adobe Express <mail@mail.adobe.com><br>Subject: Mother's Day content in a few clicks<br>Text: Subject: Mother's Day content in a few clicks From: Adobe Express <mail@mail.adobe.com> Date: Sat, 1...",
          "From: Kaggle <kaggle-noreply@google.com><br>Subject: Competition deadline approaching<br>Text: Subject: Competition deadline approaching From: Kaggle <kaggle-noreply@google.com> Date: Sat, 19 Apr...",
          "From: Codeforces@codeforces.com<br>Subject: Neowise Labs Contest 1 (Codeforces Round 1018, Div. 1 + Div. 2) (Rated for Everybody, prizes!)<br>Text: Subject: Neowise Labs Contest 1 (Codeforces Round 1018, Div. 1 + Div. 2) (Rated for Everybody, prize...",
          "From: The Coding School <train.student@the-cs.org><br>Subject: Final Quantum Computing Grade Report<br>Text: Subject: Final Quantum Computing Grade Report From: The Coding School <train.student@the-cs.org> Dat...",
          "From: Wellfound <newsletters@hi.wellfound.com><br>Subject: Superpower's Healthcare Revolution<br>Text: Subject: Superpower's Healthcare Revolution From: Wellfound <newsletters@hi.wellfound.com> Date: Fri...",
          "From: bigbasket <alert@info.bigbasket.com><br>Subject: The RCB Quiz is Live❤️<br>Text: Subject: The RCB Quiz is Live❤️ From: bigbasket <alert@info.bigbasket.com> Date: Fri, 18 Apr 2025 09...",
          "From: JioMart <offers@mailer.jiomart.com><br>Subject: EXTRA 10% Off on Home & Lifestyle Essentials | Shop Now!<br>Text: Subject: EXTRA 10% Off on Home & Lifestyle Essentials | Shop Now! From: JioMart <offers@mailer.jioma...",
          "From: Google <no-reply@accounts.google.com><br>Subject: Security alert<br>Text: Subject: Security alert From: Google <no-reply@accounts.google.com> Date: Fri, 18 Apr 2025 06:24:49 ...",
          "From: Kaggle <kaggle-noreply@google.com><br>Subject: New Badge Received<br>Text: Subject: New Badge Received From: Kaggle <kaggle-noreply@google.com> Date: Thu, 17 Apr 2025 23:20:16...",
          "From: Google Cloud <googlecloud@google.com><br>Subject: We've received your request<br>Text: Subject: We've received your request From: Google Cloud <googlecloud@google.com> Date: Thu, 17 Apr 2...",
          "From: Devpost <support@devpost.com><br>Subject: New hackathons this week: AI, games, agents & more<br>Text: Subject: New hackathons this week: AI, games, agents & more From: Devpost <support@devpost.com> Date...",
          "From: \"Wellfound (formerly AngelList Talent)\" <team@hi.wellfound.com><br>Subject: An update from hivepath<br>Text: Subject: An update from hivepath From: \"Wellfound (formerly AngelList Talent)\" <team@hi.wellfound.co...",
          "From: \"Amazon.jobs\" <noreply@mail.amazon.jobs><br>Subject: Your amazon.jobs verification code<br>Text: Subject: Your amazon.jobs verification code From: \"Amazon.jobs\" <noreply@mail.amazon.jobs> Date: Thu...",
          "From: Vaadin Team <team@vaadin.com><br>Subject: Where Copilot has taken us and what’s next<br>Text: Subject: Where Copilot has taken us and what’s next From: Vaadin Team <team@vaadin.com> Date: Thu, 1...",
          "From: Hugging Face Team <thomas.simonini@huggingface.co><br>Subject: Agent Course: Deadline extended to July 1st 🥳<br>Text: Subject: Agent Course: Deadline extended to July 1st 🥳 From: Hugging Face Team <thomas.simonini@hugg...",
          "From: huggingface <website@huggingface.co><br>Subject: [Hugging Face] Click this link to confirm your email address<br>Text: Subject: [Hugging Face] Click this link to confirm your email address From: huggingface <website@hug...",
          "From: Devfolio <hello@devfolio.co><br>Subject: Two hackathons. $1.5 million+ on the table. Let’s build.<br>Text: Subject: Two hackathons. $1.5 million+ on the table. Let’s build. From: Devfolio <hello@devfolio.co>...",
          "From: Google Analytics <analytics-noreply@google.com><br>Subject: You're missing out on personalized insights & tips<br>Text: Subject: You're missing out on personalized insights & tips From: Google Analytics <analytics-norepl...",
          "From: DataCamp Insights <team@datacamp.com><br>Subject: New Course: Understanding Excel<br>Text: Subject: New Course: Understanding Excel From: DataCamp Insights <team@datacamp.com> Date: Tue, 15 A...",
          "From: Spline Tutorials <hello@mail.spline.design><br>Subject: 🔥 New tutorial: 3D Voxel Avatars<br>Text: Subject: 🔥 New tutorial: 3D Voxel Avatars From: Spline Tutorials <hello@mail.spline.design> Date: Tu...",
          "From: MongoDB <mongodb@team.mongodb.com><br>Subject: Developer Digest: Atlas Architecture Center, free skill badges, LangChainGO integration, and more<br>Text: Subject: Developer Digest: Atlas Architecture Center, free skill badges, LangChainGO integration, an...",
          "From: Hugging Face Team <thomas.simonini@huggingface.co><br>Subject: Let's create your first AI Agent 🤖<br>Text: Subject: Let's create your first AI Agent 🤖 From: Hugging Face Team <thomas.simonini@huggingface.co>...",
          "From: Spotify <no-reply@spotify.com><br>Subject: Get back into your Spotify account<br>Text: Subject: Get back into your Spotify account From: Spotify <no-reply@spotify.com> Date: Tue, 15 Apr 2...",
          "From: Canva <marketing@engage.canva.com><br>Subject: , you're on a design hot streak 🔥<br>Text: Subject: , you're on a design hot streak 🔥 From: Canva <marketing@engage.canva.com> Date: Tue, 15 Ap...",
          "From: GitHub <noreply@github.com><br>Subject: [GitHub] Your Dependabot alerts for the week of Apr 8 - Apr 15<br>Text: Subject: [GitHub] Your Dependabot alerts for the week of Apr 8 - Apr 15 From: GitHub <noreply@github...",
          "From: Vercel <ship@info.vercel.com><br>Subject: Vercel Product Update<br>Text: Subject: Vercel Product Update From: Vercel <ship@info.vercel.com> Date: Mon, 14 Apr 2025 20:30:12 +...",
          "From: huggingface <website@huggingface.co><br>Subject: [Hugging Face] Click this link to confirm your email address<br>Text: Subject: [Hugging Face] Click this link to confirm your email address From: huggingface <website@hug...",
          "From: Hugging Face Team <thomas.simonini@huggingface.co><br>Subject: Welcome to the AI Agent Course 🤗🎉<br>Text: Subject: Welcome to the AI Agent Course 🤗🎉 From: Hugging Face Team <thomas.simonini@huggingface.co> ...",
          "From: Hugging Face Team <joffrey@huggingface.co><br>Subject: The Hugging Face Agents Course: your subscription is confirmed 🥳<br>Text: Subject: The Hugging Face Agents Course: your subscription is confirmed 🥳 From: Hugging Face Team <j...",
          "From: Samsung account <sa.noreply@samsung-mail.com><br>Subject: New sign-in to your Samsung account<br>Text: Subject: New sign-in to your Samsung account From: Samsung account <sa.noreply@samsung-mail.com> Dat...",
          "From: JioMart <offers@mailer.jiomart.com><br>Subject: Crazy Summer Deals on Electronics | Shop Now!<br>Text: Subject: Crazy Summer Deals on Electronics | Shop Now! From: JioMart <offers@mailer.jiomart.com> Dat...",
          "From: Adobe Creative Cloud <mail@mail.adobe.com><br>Subject: Every app for all your ideas<br>Text: Subject: Every app for all your ideas From: Adobe Creative Cloud <mail@mail.adobe.com> Date: Sun, 13...",
          "From: Google Forms <forms-receipts-noreply@google.com><br>Subject: Summer Internship 2025 @IIT Goa, Track A<br>Text: Subject: Summer Internship 2025 @IIT Goa, Track A From: Google Forms <forms-receipts-noreply@google....",
          "From: Google <no-reply@accounts.google.com><br>Subject: Security alert<br>Text: Subject: Security alert From: Google <no-reply@accounts.google.com> Date: Sun, 13 Apr 2025 07:38:17 ...",
          "From: Google <no-reply@accounts.google.com><br>Subject: 2-Step Verification turned on<br>Text: Subject: 2-Step Verification turned on From: Google <no-reply@accounts.google.com> Date: Sun, 13 Apr...",
          "From: Google <no-reply@accounts.google.com><br>Subject: Security alert<br>Text: Subject: Security alert From: Google <no-reply@accounts.google.com> Date: Sun, 13 Apr 2025 07:37:59 ...",
          "From: Google <no-reply@accounts.google.com><br>Subject: Security alert<br>Text: Subject: Security alert From: Google <no-reply@accounts.google.com> Date: Sun, 13 Apr 2025 07:37:08 ...",
          "From: Google <no-reply@accounts.google.com><br>Subject: Security alert<br>Text: Subject: Security alert From: Google <no-reply@accounts.google.com> Date: Sun, 13 Apr 2025 07:35:48 ...",
          "From: Amazon <account-update@amazon.in><br>Subject: Revision to Your Amazon Account<br>Text: Subject: Revision to Your Amazon Account From: Amazon <account-update@amazon.in> Date: Sun, 13 Apr 2...",
          "From: \"amazon.in\" <account-update@amazon.in><br>Subject: amazon.in: Password recovery<br>Text: Subject: amazon.in: Password recovery From: \"amazon.in\" <account-update@amazon.in> Date: Sun, 13 Apr...",
          "From: \"amazon.in\" <account-update@amazon.in><br>Subject: amazon.in: Sign-in<br>Text: Subject: amazon.in: Sign-in From: \"amazon.in\" <account-update@amazon.in> Date: Sun, 13 Apr 2025 07:3...",
          "From: \"Amazon.in\" <store-news@amazon.in><br>Subject: Crompton Air Cooler<br>Text: Subject: Crompton Air Cooler From: \"Amazon.in\" <store-news@amazon.in> Date: Sun, 13 Apr 2025 00:20:3...",
          "From: Codeforces@codeforces.com<br>Subject: Codeforces Round 1017 (Div. 4)<br>Text: Subject: Codeforces Round 1017 (Div. 4) From: Codeforces@codeforces.com Date: Sat, 12 Apr 2025 21:15...",
          "From: Taj Hotels <offers@tajhotels.com><br>Subject: Festivals of India, Celebrations by Taj<br>Text: Subject: Festivals of India, Celebrations by Taj From: Taj Hotels <offers@tajhotels.com> Date: Sat, ...",
          "From: Cassie from Devpost <cassie@devpost.com><br>Subject: HACKATHONS just for you, Manas<br>Text: Subject: HACKATHONS just for you, Manas From: Cassie from Devpost <cassie@devpost.com> Date: Sat, 12...",
          "From: Google <no-reply@accounts.google.com><br>Subject: Security alert<br>Text: Subject: Security alert From: Google <no-reply@accounts.google.com> Date: Fri, 11 Apr 2025 18:59:40 ...",
          "From: \"vercel[bot]\" <notifications@github.com><br>Subject: Re: [manaspros/tribel] Bedekar (PR #2)<br>Text: Subject: Re: [manaspros/tribel] Bedekar (PR #2) From: \"vercel[bot]\" <notifications@github.com> Date:...",
          "From: GitHub <noreply@github.com><br>Subject: [GitHub] A third-party OAuth application has been added to your account<br>Text: Subject: [GitHub] A third-party OAuth application has been added to your account From: GitHub <norep...",
          "From: GitHub <noreply@github.com><br>Subject: [GitHub] A third-party OAuth application has been added to your account<br>Text: Subject: [GitHub] A third-party OAuth application has been added to your account From: GitHub <norep...",
          "From: Amazon Web Services <aws-marketing-email-replies@amazon.com><br>Subject: Just launched: AWS re:Inforce 2025 catalog<br>Text: Subject: Just launched: AWS re:Inforce 2025 catalog From: Amazon Web Services <aws-marketing-email-r...",
          "From: Canva Create HQ <canvacreate@engage.canva.com><br>Subject: Watch the Canva Create Keynote now<br>Text: Subject: Watch the Canva Create Keynote now From: Canva Create HQ <canvacreate@engage.canva.com> Dat...",
          "From: DataCamp <team@datacamp.com><br>Subject: Free Download: Exclusive Data & AI Literacy Report<br>Text: Subject: Free Download: Exclusive Data & AI Literacy Report From: DataCamp <team@datacamp.com> Date:...",
          "From: Render <no-reply@render.com><br>Subject: deploy failed for TechStack-Backend<br>Text: Subject: deploy failed for TechStack-Backend From: Render <no-reply@render.com> Date: Thu, 10 Apr 20...",
          "From: Render <no-reply@render.com><br>Subject: deploy failed for TechStack-Backend<br>Text: Subject: deploy failed for TechStack-Backend From: Render <no-reply@render.com> Date: Thu, 10 Apr 20...",
          "From: Render <no-reply@render.com><br>Subject: deploy failed for TechStack-Backend<br>Text: Subject: deploy failed for TechStack-Backend From: Render <no-reply@render.com> Date: Thu, 10 Apr 20...",
          "From: Notion Team <team@mail.notion.so><br>Subject: Introducing Scheduling in Notion Calendar — simple and free<br>Text: Subject: Introducing Scheduling in Notion Calendar — simple and free From: Notion Team <team@mail.no...",
          "From: Wellfound <newsletters@hi.wellfound.com><br>Subject: Shopify’s AI-first hiring strategy<br>Text: Subject: Shopify’s AI-first hiring strategy From: Wellfound <newsletters@hi.wellfound.com> Date: Thu...",
          "From: Anara <team@mail.unriddle.ai><br>Subject: Earn $10 cash by referring a friend!<br>Text: Subject: Earn $10 cash by referring a friend! From: Anara <team@mail.unriddle.ai> Date: Thu, 10 Apr ...",
          "From: JioMart <offers@mailer.jiomart.com><br>Subject: LIVE NOW: Fashion SALE | Shop Now!<br>Text: Subject: LIVE NOW: Fashion SALE | Shop Now! From: JioMart <offers@mailer.jiomart.com> Date: Thu, 10 ...",
          "From: Devpost <support@devpost.com><br>Subject: Getting started with Devpost<br>Text: Subject: Getting started with Devpost From: Devpost <support@devpost.com> Date: Wed, 09 Apr 2025 19:...",
          "From: Google <no-reply@accounts.google.com><br>Subject: Security alert<br>Text: Subject: Security alert From: Google <no-reply@accounts.google.com> Date: Wed, 09 Apr 2025 15:31:56 ...",
          "From: Anara <team@auth2.unriddle.ai><br>Subject: Three powerful features you should know<br>Text: Subject: Three powerful features you should know From: Anara <team@auth2.unriddle.ai> Date: Wed, 9 A...",
          "From: Render <no-reply@render.com><br>Subject: deploy failed for TechStack-Backend<br>Text: Subject: deploy failed for TechStack-Backend From: Render <no-reply@render.com> Date: Wed, 09 Apr 20...",
          "From: \"Amazon.in\" <store-news@amazon.in><br>Subject: boAt Earphones<br>Text: Subject: boAt Earphones From: \"Amazon.in\" <store-news@amazon.in> Date: Wed, 9 Apr 2025 00:17:39 +000...",
          "From: DataCamp Insights <team@datacamp.com><br>Subject: New Course: Intro to ChatGPT<br>Text: Subject: New Course: Intro to ChatGPT From: DataCamp Insights <team@datacamp.com> Date: Tue, 08 Apr ...",
          "From: Devpost <support@devpost.com><br>Subject: Check out your new achievement!<br>Text: Subject: Check out your new achievement! From: Devpost <support@devpost.com> Date: Tue, 08 Apr 2025 ...",
          "From: Anara <team@auth2.unriddle.ai><br>Subject: Write, cite and edit with AI<br>Text: Subject: Write, cite and edit with AI From: Anara <team@auth2.unriddle.ai> Date: Tue, 8 Apr 2025 14:...",
          "From: LinkedIn <security-noreply@linkedin.com><br>Subject: Manas, please verify your new device<br>Text: Subject: Manas, please verify your new device From: LinkedIn <security-noreply@linkedin.com> Date: T...",
          "From: GitHub <noreply@github.com><br>Subject: [GitHub] Your Dependabot alerts for the week of Apr 1 - Apr 8<br>Text: Subject: [GitHub] Your Dependabot alerts for the week of Apr 1 - Apr 8 From: GitHub <noreply@github....",
          "From: Vaadin Team <team@vaadin.com><br>Subject: Going live soon: see the latest Vaadin UI updates in action<br>Text: Subject: Going live soon: see the latest Vaadin UI updates in action From: Vaadin Team <team@vaadin....",
          "From: DataCamp <team@datacamp.com><br>Subject: Unlock Premium: ₹6450 Off<br>Text: Subject: Unlock Premium: ₹6450 Off From: DataCamp <team@datacamp.com> Date: Mon, 07 Apr 2025 20:30:0...",
          "From: Codeforces@codeforces.com<br>Subject: Codeforces Round 1016 (Div. 3)<br>Text: Subject: Codeforces Round 1016 (Div. 3) From: Codeforces@codeforces.com Date: Mon, 7 Apr 2025 21:49:...",
          "From: Kaggle <kaggle-noreply@google.com><br>Subject: New Badge Received<br>Text: Subject: New Badge Received From: Kaggle <kaggle-noreply@google.com> Date: Mon, 07 Apr 2025 11:38:50...",
          "From: Kaggle <kaggle-noreply@google.com><br>Subject: New Badge Received<br>Text: Subject: New Badge Received From: Kaggle <kaggle-noreply@google.com> Date: Mon, 07 Apr 2025 11:23:54...",
          "From: Vercel <notifications@vercel.com><br>Subject: Access Request<br>Text: Subject: Access Request From: Vercel <notifications@vercel.com> Date: Mon, 7 Apr 2025 16:51:59 +0000...",
          "From: The DataCamp Team <team@datacamp.com><br>Subject: We're sorry to see you go<br>Text: Subject: We're sorry to see you go From: The DataCamp Team <team@datacamp.com> Date: Mon, 07 Apr 202...",
          "From: Anara <team@auth2.unriddle.ai><br>Subject: Understand papers, lectures and books really quickly<br>Text: Subject: Understand papers, lectures and books really quickly From: Anara <team@auth2.unriddle.ai> D...",
          "From: Canva Create HQ <canvacreate@engage.canva.com><br>Subject: Canva Create spots are filling up fast<br>Text: Subject: Canva Create spots are filling up fast From: Canva Create HQ <canvacreate@engage.canva.com>...",
          "From: Amazon Web Services <aws-apj-marketing@amazon.com><br>Subject: Only 3 days left: Register now for introductory cloud training<br>Text: Subject: Only 3 days left: Register now for introductory cloud training From: Amazon Web Services <a...",
          "From: Google <no-reply@accounts.google.com><br>Subject: Security alert for manasstudy00@gmail.com<br>Text: Subject: Security alert for manasstudy00@gmail.com From: Google <no-reply@accounts.google.com> Date:...",
          "From: Google <no-reply@accounts.google.com><br>Subject: Security alert<br>Text: Subject: Security alert From: Google <no-reply@accounts.google.com> Date: Mon, 07 Apr 2025 02:15:27 ...",
          "From: Google <no-reply@accounts.google.com><br>Subject: Security alert<br>Text: Subject: Security alert From: Google <no-reply@accounts.google.com> Date: Sun, 06 Apr 2025 19:55:35 ...",
          "From: The Indian Hotels Company Limited <offers@ihcltata.com><br>Subject: Cherishing Togetherness - Enjoy 25% savings* on your stays!<br>Text: Subject: Cherishing Togetherness - Enjoy 25% savings* on your stays! From: The Indian Hotels Company...",
          "From: noreply@codeforces.com<br>Subject: Kotlin Heroes: Episode 12 [100 t-shirts, money prizes!]<br>Text: Subject: Kotlin Heroes: Episode 12 [100 t-shirts, money prizes!] From: noreply@codeforces.com Date: ...",
          "From: Anara <team@mail.unriddle.ai><br>Subject: Welcome to Anara :)<br>Text: Subject: Welcome to Anara :) From: Anara <team@mail.unriddle.ai> Date: Sat, 5 Apr 2025 21:57:21 +000...",
          "From: Codeforces@codeforces.com<br>Subject: Teza Round 1 (Codeforces Round 1015, Div. 1 + Div. 2) (Rated for Everybody, prizes!)<br>Text: Subject: Teza Round 1 (Codeforces Round 1015, Div. 1 + Div. 2) (Rated for Everybody, prizes!) From: ...",
          "From: The Coding School <student@qubitbyqubit.org><br>Subject: End-of-Year Reminders – Final Steps to Complete the Course<br>Text: Subject: End-of-Year Reminders – Final Steps to Complete the Course From: The Coding School <student...",
          "From: Adobe for Photographers <mail@mail.adobe.com><br>Subject: Paws-itively perfect pet pics<br>Text: Subject: Paws-itively perfect pet pics From: Adobe for Photographers <mail@mail.adobe.com> Date: Thu...",
          "From: Wellfound <newsletters@hi.wellfound.com><br>Subject: Startup gamifies taxes<br>Text: Subject: Startup gamifies taxes From: Wellfound <newsletters@hi.wellfound.com> Date: Fri, 04 Apr 202...",
          "From: Okta Showcase <showcase@okta.com><br>Subject: Don't miss out: Secure AI and Non-Human Identities<br>Text: Subject: Don't miss out: Secure AI and Non-Human Identities From: Okta Showcase <showcase@okta.com> ...",
          "From: MongoDB <mongodb@team.mongodb.com><br>Subject: Upcoming changes to Atlas<br>Text: Subject: Upcoming changes to Atlas From: MongoDB <mongodb@team.mongodb.com> Date: Thu, 03 Apr 2025 1...",
          "From: \"Wellfound (formerly AngelList Talent)\" <team@hi.wellfound.com><br>Subject: An update from Invsto, Ned and 1 others<br>Text: Subject: An update from Invsto, Ned and 1 others From: \"Wellfound (formerly AngelList Talent)\" <team...",
          "From: Amanda at DataCamp <team@datacamp.com><br>Subject: Learn Python faster with cheat sheets<br>Text: Subject: Learn Python faster with cheat sheets From: Amanda at DataCamp <team@datacamp.com> Date: Th...",
          "From: Vaadin Team <team@vaadin.com><br>Subject: These Vaadin UI updates will change how you build<br>Text: Subject: These Vaadin UI updates will change how you build From: Vaadin Team <team@vaadin.com> Date:...",
          "From: Devfolio <hello@devfolio.co><br>Subject: Science or sports? $275,000+ prizes at upcoming hackathons!<br>Text: Subject: Science or sports? $275,000+ prizes at upcoming hackathons! From: Devfolio <hello@devfolio....",
          "From: Codeforces@codeforces.com<br>Subject: Educational Codeforces Round 177 (Rated for Div. 2)<br>Text: Subject: Educational Codeforces Round 177 (Rated for Div. 2) From: Codeforces@codeforces.com Date: T...",
          "From: \"Wellfound (formerly AngelList Talent)\" <team@hi.wellfound.com><br>Subject: Manas, apply to your saved jobs before they expire<br>Text: Subject: Manas, apply to your saved jobs before they expire From: \"Wellfound (formerly AngelList Tal...",
          "From: HeyAlbert <info@heyalbert.co><br>Subject: I almost lost my SANITY<br>Text: Subject: I almost lost my SANITY From: HeyAlbert <info@heyalbert.co> Date: Wed, 02 Apr 2025 03:31:02...",
          "From: MongoDB <mongodbteam@messages.mongodb.com><br>Subject: Upgrade with Confidence MongoDB : Version 8.0 on April 10th<br>Text: Subject: Upgrade with Confidence MongoDB : Version 8.0 on April 10th From: MongoDB <mongodbteam@mess...",
          "From: \"Amazon.in\" <store-news@amazon.in><br>Subject: Bajaj Air Cooler<br>Text: Subject: Bajaj Air Cooler From: \"Amazon.in\" <store-news@amazon.in> Date: Wed, 2 Apr 2025 00:08:38 +0...",
          "From: DataCamp Insights <team@datacamp.com><br>Subject: New Course: Intro to Snowflake ❄️<br>Text: Subject: New Course: Intro to Snowflake ❄️ From: DataCamp Insights <team@datacamp.com> Date: Tue, 01...",
          "From: Amanda at DataCamp <team@datacamp.com><br>Subject: Challenge: Complete 1 Chapter today!<br>Text: Subject: Challenge: Complete 1 Chapter today! From: Amanda at DataCamp <team@datacamp.com> Date: Tue...",
          "From: Aryan Kumar Baghel <noreply@github.com><br>Subject: Aryankb invited you to Aryankb/SIGMOYD<br>Text: Subject: Aryankb invited you to Aryankb/SIGMOYD From: Aryan Kumar Baghel <noreply@github.com> Date: ...",
          "From: Aryan Kumar Baghel <noreply@github.com><br>Subject: Aryankb invited you to Aryankb/sigmoyd_frontent<br>Text: Subject: Aryankb invited you to Aryankb/sigmoyd_frontent From: Aryan Kumar Baghel <noreply@github.co...",
          "From: \"Wellfound (formerly AngelList Talent)\" <team@hi.wellfound.com><br>Subject: Application to hivepath successfully submitted<br>Text: Subject: Application to hivepath successfully submitted From: \"Wellfound (formerly AngelList Talent)...",
          "From: Amazon Web Services <aws-marketing-email-replies@amazon.com><br>Subject: Upgrade now to get 60 days of free AWS Business Support!<br>Text: Subject: Upgrade now to get 60 days of free AWS Business Support! From: Amazon Web Services <aws-mar...",
          "From: GitHub <noreply@github.com><br>Subject: [GitHub] Your Dependabot alerts for the week of Mar 25 - Apr 1<br>Text: Subject: [GitHub] Your Dependabot alerts for the week of Mar 25 - Apr 1 From: GitHub <noreply@github...",
          "From: HeyAlbert <info@heyalbert.co><br>Subject: I Was Suffering for No Reason, Until I Found a way…<br>Text: Subject: I Was Suffering for No Reason, Until I Found a way… From: HeyAlbert <info@heyalbert.co> Dat...",
          "From: Kaggle <kaggle-noreply@google.com><br>Subject: Competition winners announced<br>Text: Subject: Competition winners announced From: Kaggle <kaggle-noreply@google.com> Date: Mon, 31 Mar 20...",
          "From: GitHub Education <githubeducation@github.com><br>Subject: Certifications, AI Challenges & Exclusive Events in April<br>Text: Subject: Certifications, AI Challenges & Exclusive Events in April From: GitHub Education <githubedu...",
          "From: Kaggle <kaggle-noreply@google.com><br>Subject: Notebook shared with you: \"notebooke6de006687\"<br>Text: Subject: Notebook shared with you: \"notebooke6de006687\" From: Kaggle <kaggle-noreply@google.com> Dat...",
          "From: Vaadin Product Security Team <security@vaadin.com><br>Subject: Ingress-Nginx Admission Controller RCE Escalation<br>Text: Subject: Ingress-Nginx Admission Controller RCE Escalation From: Vaadin Product Security Team <secur...",
          "From: Kaggle <kaggle-noreply@google.com><br>Subject: New Badge Received<br>Text: Subject: New Badge Received From: Kaggle <kaggle-noreply@google.com> Date: Mon, 31 Mar 2025 04:15:52...",
          "From: Kaggle <kaggle-noreply@google.com><br>Subject: Notebook shared with you: \"notebook01d4f064a8\"<br>Text: Subject: Notebook shared with you: \"notebook01d4f064a8\" From: Kaggle <kaggle-noreply@google.com> Dat...",
          "From: Kaggle <kaggle-noreply@google.com><br>Subject: Team merge request<br>Text: Subject: Team merge request From: Kaggle <kaggle-noreply@google.com> Date: Mon, 31 Mar 2025 01:40:53...",
          "From: Kaggle <kaggle-noreply@google.com><br>Subject: Team merge confirmation<br>Text: Subject: Team merge confirmation From: Kaggle <kaggle-noreply@google.com> Date: Mon, 31 Mar 2025 01:...",
          "From: Kaggle <kaggle-noreply@google.com><br>Subject: Competition deadline approaching<br>Text: Subject: Competition deadline approaching From: Kaggle <kaggle-noreply@google.com> Date: Sun, 30 Mar...",
          "From: HeyAlbert <info@heyalbert.co><br>Subject: Finance OS tutorial video you requested is here.<br>Text: Subject: Finance OS tutorial video you requested is here. From: HeyAlbert <info@heyalbert.co> Date: ...",
          "From: freetier@costalerts.amazonaws.com<br>Subject: AWS Free Tier limit alert<br>Text: Subject: AWS Free Tier limit alert From: freetier@costalerts.amazonaws.com Date: Fri, 28 Mar 2025 10...",
          "From: Wellfound <newsletters@hi.wellfound.com><br>Subject: AI delivers more unicorns<br>Text: Subject: AI delivers more unicorns From: Wellfound <newsletters@hi.wellfound.com> Date: Fri, 28 Mar ...",
          "From: Devfolio <hello@devfolio.co><br>Subject: $600,000+ in prizes at the upcoming hackathons: Remix AI, build on zero-knowledge or get wildly ambitious!<br>Text: Subject: $600,000+ in prizes at the upcoming hackathons: Remix AI, build on zero-knowledge or get wi...",
          "From: Amazon Web Services <aws-marketing-email-replies@amazon.com><br>Subject: Registration now open: AWS re:Inforce 2025<br>Text: Subject: Registration now open: AWS re:Inforce 2025 From: Amazon Web Services <aws-marketing-email-r...",
          "From: \"Wellfound (formerly AngelList Talent)\" <team@hi.wellfound.com><br>Subject: An update from Lithem, Superlevel technologies and 1 others<br>Text: Subject: An update from Lithem, Superlevel technologies and 1 others From: \"Wellfound (formerly Ange...",
          "From: Spline Tutorials <hello@mail.spline.design><br>Subject: 🔥 New tutorial: Distance Event<br>Text: Subject: 🔥 New tutorial: Distance Event From: Spline Tutorials <hello@mail.spline.design> Date: Thu,...",
          "From: Canva <marketing@engage.canva.com><br>Subject: Just published a presentation?<br>Text: Subject: Just published a presentation? From: Canva <marketing@engage.canva.com> Date: Wed, 26 Mar 2...",
          "From: YouTube <no-reply@youtube.com><br>Subject: Updates to YouTube Data API & YouTube Analytics and Reporting APIs<br>Text: Subject: Updates to YouTube Data API & YouTube Analytics and Reporting APIs From: YouTube <no-reply@...",
          "From: Vaadin Team <team@vaadin.com><br>Subject: Starting in 1 Hour: Vaadin 24.7 Release Webinar<br>Text: Subject: Starting in 1 Hour: Vaadin 24.7 Release Webinar From: Vaadin Team <team@vaadin.com> Date: W...",
          "From: Amanda at DataCamp <team@datacamp.com><br>Subject: Recommended for you: Introduction to ChatGPT<br>Text: Subject: Recommended for you: Introduction to ChatGPT From: Amanda at DataCamp <team@datacamp.com> D...",
          "From: Adobe Special Offers <mail@mail.adobe.com><br>Subject: ⏰ 20% off 20+ apps ending soon<br>Text: Subject: ⏰ 20% off 20+ apps ending soon From: Adobe Special Offers <mail@mail.adobe.com> Date: Tue, ...",
          "From: \"Amazon.in\" <store-news@amazon.in><br>Subject: Symphony Air Cooler<br>Text: Subject: Symphony Air Cooler From: \"Amazon.in\" <store-news@amazon.in> Date: Wed, 26 Mar 2025 00:38:1...",
          "From: DataCamp Insights <team@datacamp.com><br>Subject: You earned 200 XP this week + new Git course!<br>Text: Subject: You earned 200 XP this week + new Git course! From: DataCamp Insights <team@datacamp.com> D...",
          "From: MongoDB <mongodbteam@messages.mongodb.com><br>Subject: ⏰ Last chance to RSVP: Atlas Search on March 26th<br>Text: Subject: ⏰ Last chance to RSVP: Atlas Search on March 26th From: MongoDB <mongodbteam@messages.mongo...",
          "From: GitHub <support@github.com><br>Subject: [manaspros/Recommedation-system-food-ordering] Possible valid secrets found in commits<br>Text: Subject: [manaspros/Recommedation-system-food-ordering] Possible valid secrets found in commits From...",
          "From: Sami from Vaadin <sami@vaadin.com><br>Subject: Meet us at JCON Europe, Vaadin 24.7 released, and more!<br>Text: Subject: Meet us at JCON Europe, Vaadin 24.7 released, and more! From: Sami from Vaadin <sami@vaadin...",
          "From: Vaadin Team <team@vaadin.com><br>Subject: Information Requested: What version of Vaadin are you using?<br>Text: Subject: Information Requested: What version of Vaadin are you using? From: Vaadin Team <team@vaadin...",
          "From: \"'Google Maps'\" <google-maps-noreply@google.com><br>Subject: The location that you updated on Maps is getting noticed<br>Text: Subject: The location that you updated on Maps is getting noticed From: \"'Google Maps'\" <google-maps...",
          "From: GitHub <noreply@github.com><br>Subject: [GitHub] Your Dependabot alerts for the week of Mar 18 - Mar 25<br>Text: Subject: [GitHub] Your Dependabot alerts for the week of Mar 18 - Mar 25 From: GitHub <noreply@githu...",
          "From: Amazon Web Services <aws-apj-marketing@amazon.com><br>Subject: Time's running out! Don’t miss out on our free cloud fundamentals training<br>Text: Subject: Time's running out! Don’t miss out on our free cloud fundamentals training From: Amazon Web...",
          "From: Kaggle <kaggle-noreply@google.com><br>Subject: Competition deadline approaching<br>Text: Subject: Competition deadline approaching From: Kaggle <kaggle-noreply@google.com> Date: Mon, 24 Mar...",
          "From: Anshul Pratap Lakra <anshul23100@iiitnr.edu.in><br>Subject: Congratulations to the Winners of the Photography Event – Technovate 2025!<br>Text: Subject: Congratulations to the Winners of the Photography Event – Technovate 2025! From: Anshul Pra...",
          "From: Codeforces@codeforces.com<br>Subject: Codeforces Round 1013 (Div. 3)<br>Text: Subject: Codeforces Round 1013 (Div. 3) From: Codeforces@codeforces.com Date: Mon, 24 Mar 2025 18:47...",
          "From: JioMart <offers@mailer.jiomart.com><br>Subject: Crazy Deals on Electronics | Buy Now!<br>Text: Subject: Crazy Deals on Electronics | Buy Now! From: JioMart <offers@mailer.jiomart.com> Date: Mon, ...",
          "From: Auth0 Support Team <no-reply-support@auth0.com><br>Subject: Third Party Vulnerability - Next.js CVE-2025-29927 - Recommendations<br>Text: Subject: Third Party Vulnerability - Next.js CVE-2025-29927 - Recommendations From: Auth0 Support Te...",
          "From: Adobe Special Offers <mail@mail.adobe.com><br>Subject: 🎨 20% off the professional creative tool kit<br>Text: Subject: 🎨 20% off the professional creative tool kit From: Adobe Special Offers <mail@mail.adobe.co...",
          "From: Labmentix HR <swaraj@labmentix.in><br>Subject: Next Steps for Your Application with Labmentix | Stipend based Internship<br>Text: Subject: Next Steps for Your Application with Labmentix | Stipend based Internship From: Labmentix H...",
          "From: Amazon Web Services <aws-marketing-email-replies@amazon.com><br>Subject: Welcome to Amazon S3<br>Text: Subject: Welcome to Amazon S3 From: Amazon Web Services <aws-marketing-email-replies@amazon.com> Dat...",
          "From: noreply@codeforces.com<br>Subject: Codeforces Round 1012<br>Text: Subject: Codeforces Round 1012 From: noreply@codeforces.com Date: Sat, 22 Mar 2025 15:21:40 +0300 (M...",
          "From: Wellfound <newsletters@hi.wellfound.com><br>Subject: Hollywood warms to AGI<br>Text: Subject: Hollywood warms to AGI From: Wellfound <newsletters@hi.wellfound.com> Date: Sat, 22 Mar 202...",
          "From: Udemy <no-reply@e.udemymail.com><br>Subject: Udemy Login: Here's the 6-digit verification code you requested<br>Text: Subject: Udemy Login: Here's the 6-digit verification code you requested From: Udemy <no-reply@e.ude...",
          "From: Codeforces@codeforces.com<br>Subject: Codeforces Round 1011 (Div. 2)<br>Text: Subject: Codeforces Round 1011 (Div. 2) From: Codeforces@codeforces.com Date: Sat, 22 Mar 2025 00:29...",
          "From: \"vercel[bot]\" <notifications@github.com><br>Subject: Re: [manaspros/technohack] Connect (PR #1)<br>Text: Subject: Re: [manaspros/technohack] Connect (PR #1) From: \"vercel[bot]\" <notifications@github.com> D...",
          "From: Stripe <notifications@stripe.com><br>Subject: Unrecognized device signed in to your Stripe account<br>Text: Subject: Unrecognized device signed in to your Stripe account From: Stripe <notifications@stripe.com...",
          "From: JioMart <offers@mailer.jiomart.com><br>Subject: Sun-Sational Savings<br>Text: Subject: Sun-Sational Savings From: JioMart <offers@mailer.jiomart.com> Date: Fri, 21 Mar 2025 10:34...",
          "From: sim-daas <noreply@github.com><br>Subject: sim-daas invited you to sim-daas/multimodal-rag<br>Text: Subject: sim-daas invited you to sim-daas/multimodal-rag From: sim-daas <noreply@github.com> Date: T...",
          "From: DataCamp <team@datacamp.com><br>Subject: Your Python Toolkit: Courses, Cheat Sheets & More!<br>Text: Subject: Your Python Toolkit: Courses, Cheat Sheets & More! From: DataCamp <team@datacamp.com> Date:...",
          "From: Internshala <student@internshala.com><br>Subject: Your profile is a perfect match for these 'Web Development' internships<br>Text: Subject: Your profile is a perfect match for these 'Web Development' internships From: Internshala <...",
          "From: Internshala <student@mailers.internshala.com><br>Subject: Manas, You can get hired for your dream role! ✨<br>Text: Subject: Manas, You can get hired for your dream role! ✨ From: Internshala <student@mailers.internsh...",
          "From: NVIDIA Developer Relations <noreply@nvidia.com><br>Subject: Welcome to the NVIDIA Developer Program<br>Text: Subject: Welcome to the NVIDIA Developer Program From: NVIDIA Developer Relations <noreply@nvidia.co...",
          "From: NVIDIA Accounts <account@nvidia.com><br>Subject: NVIDIA Account Created<br>Text: Subject: NVIDIA Account Created From: NVIDIA Accounts <account@nvidia.com> Date: Thu, 20 Mar 2025 11...",
          "From: Okta Showcase <showcase@okta.com><br>Subject: The countdown to Showcase is on!<br>Text: Subject: The countdown to Showcase is on! From: Okta Showcase <showcase@okta.com> Date: Thu, 20 Mar ...",
          "From: no-reply@verify.signin.aws<br>Subject: Verify your identity<br>Text: Subject: Verify your identity From: no-reply@verify.signin.aws Date: Thu, 20 Mar 2025 10:22:01 +0000...",
          "From: Kaggle <kaggle-noreply@google.com><br>Subject: New Badge Received<br>Text: Subject: New Badge Received From: Kaggle <kaggle-noreply@google.com> Date: Thu, 20 Mar 2025 01:09:30...",
          "From: Internshala <student@mailers.internshala.com><br>Subject: Manas, is this stopping you? 🛑<br>Text: Subject: Manas, is this stopping you? 🛑 From: Internshala <student@mailers.internshala.com> Date: Th...",
          "From: Vaadin Team <team@vaadin.com><br>Subject: Webinar: Vaadin 24.7 Release<br>Text: Subject: Webinar: Vaadin 24.7 Release From: Vaadin Team <team@vaadin.com> Date: Thu, 20 Mar 2025 07:...",
          "From: Internshala <student@mailers.internshala.com><br>Subject: Manas, struggling to get shortlisted? Here’s your fix!<br>Text: Subject: Manas, struggling to get shortlisted? Here’s your fix! From: Internshala <student@mailers.i...",
          "From: Vercel <ship@info.vercel.com><br>Subject: Vercel Ship 2025 is coming June 25<br>Text: Subject: Vercel Ship 2025 is coming June 25 From: Vercel <ship@info.vercel.com> Date: Wed, 19 Mar 20...",
          "From: \"Technovate 6.0 | IIIT NR\" <technovate@iiitnr.ac.in><br>Subject: Correction: Event Details and Schedule for Technovate 6.0<br>Text: Subject: Correction: Event Details and Schedule for Technovate 6.0 From: \"Technovate 6.0 | IIIT NR\" ...",
          "From: \"Technovate 6.0 | IIIT NR\" <technovate@iiitnr.ac.in><br>Subject: Event Details and Schedule for Technovate 6.0<br>Text: Subject: Event Details and Schedule for Technovate 6.0 From: \"Technovate 6.0 | IIIT NR\" <technovate@...",
          "From: The DataCamp Team <team@reply.datacamp.com><br>Subject: Password Reset<br>Text: Subject: Password Reset From: The DataCamp Team <team@reply.datacamp.com> Date: Wed, 19 Mar 2025 18:...",
          "From: MongoDB <mongodb@team.mongodb.com><br>Subject: Developer Digest: Voyage AI joins MongoDB, new skill badges, and more.<br>Text: Subject: Developer Digest: Voyage AI joins MongoDB, new skill badges, and more. From: MongoDB <mongo...",
          "From: MongoDB <mongodb@alerts.mongodb.com><br>Subject: Incorrect deserialization of negative int64 values for users of the useBigInt64 option in the JavaScript bson library, the Node.js Driver and MongoDB Shell<br>Text: Subject: Incorrect deserialization of negative int64 values for users of the useBigInt64 option in t...",
          "From: Vaadin <team@vaadin.com><br>Subject: Vaadin 24.7 is here: smarter tools and smoother development<br>Text: Subject: Vaadin 24.7 is here: smarter tools and smoother development From: Vaadin <team@vaadin.com> ...",
          "From: DataCamp <team@datacamp.com><br>Subject: [₹6500 Off] Only hours left!<br>Text: Subject: [₹6500 Off] Only hours left! From: DataCamp <team@datacamp.com> Date: Wed, 19 Mar 2025 15:0...",
          "From: Internshala <student@mailers.internshala.com><br>Subject: Manas, apply with ease to top brands! 💪🔥<br>Text: Subject: Manas, apply with ease to top brands! 💪🔥 From: Internshala <student@mailers.internshala.com...",
          "From: Canva <marketing@engage.canva.com><br>Subject: Capture the best ideas with whiteboards<br>Text: Subject: Capture the best ideas with whiteboards From: Canva <marketing@engage.canva.com> Date: Wed,...",
          "From: Internshala <student@mailers.internshala.com><br>Subject: Manas, 1219 users like you got shortlisted today!<br>Text: Subject: Manas, 1219 users like you got shortlisted today! From: Internshala <student@mailers.intern...",
          "From: Internshala <student@mailers.internshala.com><br>Subject: Manas, double your hiring chances with 2X benefits!<br>Text: Subject: Manas, double your hiring chances with 2X benefits! From: Internshala <student@mailers.inte...",
          "From: Internshala <student@mailers.internshala.com><br>Subject: Attention Manas! We have your back!<br>Text: Subject: Attention Manas! We have your back! From: Internshala <student@mailers.internshala.com> Dat...",
          "From: The Indian Hotels Company Limited <offers@ihcltata.com><br>Subject: Celebrating Our Bond - Enjoy 25% savings* on breakfast inclusive stays<br>Text: Subject: Celebrating Our Bond - Enjoy 25% savings* on breakfast inclusive stays From: The Indian Hot...",
          "From: DataCamp Insights <team@datacamp.com><br>Subject: Just for you: Python tracks & courses<br>Text: Subject: Just for you: Python tracks & courses From: DataCamp Insights <team@datacamp.com> Date: Tue...",
          "From: Kaggle <kaggle-noreply@google.com><br>Subject: New Badge Received<br>Text: Subject: New Badge Received From: Kaggle <kaggle-noreply@google.com> Date: Tue, 18 Mar 2025 06:07:46...",
          "From: Kaggle <kaggle-noreply@google.com><br>Subject: New Badge Received<br>Text: Subject: New Badge Received From: Kaggle <kaggle-noreply@google.com> Date: Tue, 18 Mar 2025 05:12:46...",
          "From: JioMart <offers@mailer.jiomart.com><br>Subject: 📢Fashion Sale📢<br>Text: Subject: 📢Fashion Sale📢 From: JioMart <offers@mailer.jiomart.com> Date: Tue, 18 Mar 2025 10:02:10 +0...",
          "From: GitHub <noreply@github.com><br>Subject: [GitHub] Your Dependabot alerts for the week of Mar 11 - Mar 18<br>Text: Subject: [GitHub] Your Dependabot alerts for the week of Mar 11 - Mar 18 From: GitHub <noreply@githu...",
          "From: Adobe Special Offers <mail@mail.adobe.com><br>Subject: 🔔 Save 20% on the All Apps plan<br>Text: Subject: 🔔 Save 20% on the All Apps plan From: Adobe Special Offers <mail@mail.adobe.com> Date: Mon,...",
          "From: Anshul Pratap Lakra <anshul23100@iiitnr.edu.in><br>Subject: Submission for Photography Event – Technovate 2025<br>Text: Subject: Submission for Photography Event – Technovate 2025 From: Anshul Pratap Lakra <anshul23100@i...",
          "From: Codeforces@codeforces.com<br>Subject: Educational Codeforces Round 176 (Rated for Div. 2)<br>Text: Subject: Educational Codeforces Round 176 (Rated for Div. 2) From: Codeforces@codeforces.com Date: M...",
          "From: Samsung account <sa.noreply@samsung-mail.com><br>Subject: New sign-in to your Samsung account<br>Text: Subject: New sign-in to your Samsung account From: Samsung account <sa.noreply@samsung-mail.com> Dat...",
          "From: noreply@codeforces.com<br>Subject: Codeforces Round 1010<br>Text: Subject: Codeforces Round 1010 From: noreply@codeforces.com Date: Fri, 14 Mar 2025 17:23:39 +0300 (M...",
          "From: Wellfound <newsletters@hi.wellfound.com><br>Subject: Google wants you in the office 60 hours a week<br>Text: Subject: Google wants you in the office 60 hours a week From: Wellfound <newsletters@hi.wellfound.co...",
          "From: \"Amazon.in\" <store-news@amazon.in><br>Subject: Crompton Air Cooler<br>Text: Subject: Crompton Air Cooler From: \"Amazon.in\" <store-news@amazon.in> Date: Thu, 13 Mar 2025 00:18:4...",
          "From: Canva <marketing@engage.canva.com><br>Subject: Colour your Holi, your way!<br>Text: Subject: Colour your Holi, your way! From: Canva <marketing@engage.canva.com> Date: Wed, 12 Mar 2025...",
          "From: MongoDB <mongodbteam@messages.mongodb.com><br>Subject: Last chance — AI agentic webinar tomorrow<br>Text: Subject: Last chance — AI agentic webinar tomorrow From: MongoDB <mongodbteam@messages.mongodb.com> ...",
          "From: \"Wellfound (formerly AngelList Talent)\" <team@hi.wellfound.com><br>Subject: Manas, apply to your saved jobs before they expire<br>Text: Subject: Manas, apply to your saved jobs before they expire From: \"Wellfound (formerly AngelList Tal...",
          "From: DataCamp <team@datacamp.com><br>Subject: Trending Now: Top Courses<br>Text: Subject: Trending Now: Top Courses From: DataCamp <team@datacamp.com> Date: Wed, 12 Mar 2025 15:00:5...",
          "From: Spline Tutorials <hello@mail.spline.design><br>Subject: 🔥 New tutorial: 3D mouse events<br>Text: Subject: 🔥 New tutorial: 3D mouse events From: Spline Tutorials <hello@mail.spline.design> Date: Tue...",
          "From: Spotify <no-reply@spotify.com><br>Subject: Get back into your Spotify account<br>Text: Subject: Get back into your Spotify account From: Spotify <no-reply@spotify.com> Date: Tue, 11 Mar 2...",
          "From: DataCamp Insights <team@datacamp.com><br>Subject: Meet Manus AI: The next big AI breakthrough?<br>Text: Subject: Meet Manus AI: The next big AI breakthrough? From: DataCamp Insights <team@datacamp.com> Da...",
          "From: \"vercel[bot]\" <notifications@github.com><br>Subject: Re: [manaspros/tribel] Timeline1 (PR #1)<br>Text: Subject: Re: [manaspros/tribel] Timeline1 (PR #1) From: \"vercel[bot]\" <notifications@github.com> Dat...",
          "From: Spotify <no-reply@spotify.com><br>Subject: Password changed<br>Text: Subject: Password changed From: Spotify <no-reply@spotify.com> Date: Tue, 11 Mar 2025 14:30:15 +0000...",
          "From: JioMart <offers@mailer.jiomart.com><br>Subject: Dhamakedaar Deals on Electronics<br>Text: Subject: Dhamakedaar Deals on Electronics From: JioMart <offers@mailer.jiomart.com> Date: Tue, 11 Ma...",
          "From: Amazon Web Services <aws-apj-marketing@amazon.com><br>Subject: You’re invited: 3-hour introductory cloud training<br>Text: Subject: You’re invited: 3-hour introductory cloud training From: Amazon Web Services <aws-apj-marke...",
          "From: GitHub <noreply@github.com><br>Subject: [GitHub] Your Dependabot alerts for the week of Mar 4 - Mar 11<br>Text: Subject: [GitHub] Your Dependabot alerts for the week of Mar 4 - Mar 11 From: GitHub <noreply@github...",
          "From: MongoDB <mongodb@team.mongodb.com><br>Subject: Don’t forget to deploy your MongoDB Atlas database! 🚀<br>Text: Subject: Don’t forget to deploy your MongoDB Atlas database! 🚀 From: MongoDB <mongodb@team.mongodb.c...",
          "From: Codeforces@codeforces.com<br>Subject: Codeforces Round 1009 (Div. 3)<br>Text: Subject: Codeforces Round 1009 (Div. 3) From: Codeforces@codeforces.com Date: Mon, 10 Mar 2025 21:58...",
          "From: GitHub <noreply@github.com><br>Subject: [GitHub] A third-party OAuth application has been added to your account<br>Text: Subject: [GitHub] A third-party OAuth application has been added to your account From: GitHub <norep...",
          "From: Labmentix <labmentixedtech@8580903.brevosend.com><br>Subject: Internship Application with Labmentix<br>Text: Subject: Internship Application with Labmentix From: Labmentix <labmentixedtech@8580903.brevosend.co...",
          "From: GitHub Education <githubeducation@github.com><br>Subject: 🧱 Borrow and Build: Learn Python by reusing code<br>Text: Subject: 🧱 Borrow and Build: Learn Python by reusing code From: GitHub Education <githubeducation@gi...",
          "From: Render <no-reply@render.com><br>Subject: deploy failed for TechStack-Backend<br>Text: Subject: deploy failed for TechStack-Backend From: Render <no-reply@render.com> Date: Mon, 10 Mar 20...",
          "From: Render <no-reply@render.com><br>Subject: deploy failed for TechStack-Backend<br>Text: Subject: deploy failed for TechStack-Backend From: Render <no-reply@render.com> Date: Mon, 10 Mar 20...",
          "From: Unstop <noreply@emails.unstop.com><br>Subject: Registered successfully for Photography!<br>Text: Subject: Registered successfully for Photography! From: Unstop <noreply@emails.unstop.com> Date: Mon..."
         ],
         "type": "scatter",
         "x": {
          "bdata": "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",
          "dtype": "f4"
         },
         "y": {
          "bdata": "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",
          "dtype": "f4"
         }
        }
       ],
       "layout": {
        "height": 600,
        "margin": {
         "b": 10,
         "l": 10,
         "r": 20,
         "t": 40
        },
        "template": {
         "data": {
          "bar": [
           {
            "error_x": {
             "color": "#2a3f5f"
            },
            "error_y": {
             "color": "#2a3f5f"
            },
            "marker": {
             "line": {
              "color": "#E5ECF6",
              "width": 0.5
             },
             "pattern": {
              "fillmode": "overlay",
              "size": 10,
              "solidity": 0.2
             }
            },
            "type": "bar"
           }
          ],
          "barpolar": [
           {
            "marker": {
             "line": {
              "color": "#E5ECF6",
              "width": 0.5
             },
             "pattern": {
              "fillmode": "overlay",
              "size": 10,
              "solidity": 0.2
             }
            },
            "type": "barpolar"
           }
          ],
          "carpet": [
           {
            "aaxis": {
             "endlinecolor": "#2a3f5f",
             "gridcolor": "white",
             "linecolor": "white",
             "minorgridcolor": "white",
             "startlinecolor": "#2a3f5f"
            },
            "baxis": {
             "endlinecolor": "#2a3f5f",
             "gridcolor": "white",
             "linecolor": "white",
             "minorgridcolor": "white",
             "startlinecolor": "#2a3f5f"
            },
            "type": "carpet"
           }
          ],
          "choropleth": [
           {
            "colorbar": {
             "outlinewidth": 0,
             "ticks": ""
            },
            "type": "choropleth"
           }
          ],
          "contour": [
           {
            "colorbar": {
             "outlinewidth": 0,
             "ticks": ""
            },
            "colorscale": [
             [
              0,
              "#0d0887"
             ],
             [
              0.1111111111111111,
              "#46039f"
             ],
             [
              0.2222222222222222,
              "#7201a8"
             ],
             [
              0.3333333333333333,
              "#9c179e"
             ],
             [
              0.4444444444444444,
              "#bd3786"
             ],
             [
              0.5555555555555556,
              "#d8576b"
             ],
             [
              0.6666666666666666,
              "#ed7953"
             ],
             [
              0.7777777777777778,
              "#fb9f3a"
             ],
             [
              0.8888888888888888,
              "#fdca26"
             ],
             [
              1,
              "#f0f921"
             ]
            ],
            "type": "contour"
           }
          ],
          "contourcarpet": [
           {
            "colorbar": {
             "outlinewidth": 0,
             "ticks": ""
            },
            "type": "contourcarpet"
           }
          ],
          "heatmap": [
           {
            "colorbar": {
             "outlinewidth": 0,
             "ticks": ""
            },
            "colorscale": [
             [
              0,
              "#0d0887"
             ],
             [
              0.1111111111111111,
              "#46039f"
             ],
             [
              0.2222222222222222,
              "#7201a8"
             ],
             [
              0.3333333333333333,
              "#9c179e"
             ],
             [
              0.4444444444444444,
              "#bd3786"
             ],
             [
              0.5555555555555556,
              "#d8576b"
             ],
             [
              0.6666666666666666,
              "#ed7953"
             ],
             [
              0.7777777777777778,
              "#fb9f3a"
             ],
             [
              0.8888888888888888,
              "#fdca26"
             ],
             [
              1,
              "#f0f921"
             ]
            ],
            "type": "heatmap"
           }
          ],
          "histogram": [
           {
            "marker": {
             "pattern": {
              "fillmode": "overlay",
              "size": 10,
              "solidity": 0.2
             }
            },
            "type": "histogram"
           }
          ],
          "histogram2d": [
           {
            "colorbar": {
             "outlinewidth": 0,
             "ticks": ""
            },
            "colorscale": [
             [
              0,
              "#0d0887"
             ],
             [
              0.1111111111111111,
              "#46039f"
             ],
             [
              0.2222222222222222,
              "#7201a8"
             ],
             [
              0.3333333333333333,
              "#9c179e"
             ],
             [
              0.4444444444444444,
              "#bd3786"
             ],
             [
              0.5555555555555556,
              "#d8576b"
             ],
             [
              0.6666666666666666,
              "#ed7953"
             ],
             [
              0.7777777777777778,
              "#fb9f3a"
             ],
             [
              0.8888888888888888,
              "#fdca26"
             ],
             [
              1,
              "#f0f921"
             ]
            ],
            "type": "histogram2d"
           }
          ],
          "histogram2dcontour": [
           {
            "colorbar": {
             "outlinewidth": 0,
             "ticks": ""
            },
            "colorscale": [
             [
              0,
              "#0d0887"
             ],
             [
              0.1111111111111111,
              "#46039f"
             ],
             [
              0.2222222222222222,
              "#7201a8"
             ],
             [
              0.3333333333333333,
              "#9c179e"
             ],
             [
              0.4444444444444444,
              "#bd3786"
             ],
             [
              0.5555555555555556,
              "#d8576b"
             ],
             [
              0.6666666666666666,
              "#ed7953"
             ],
             [
              0.7777777777777778,
              "#fb9f3a"
             ],
             [
              0.8888888888888888,
              "#fdca26"
             ],
             [
              1,
              "#f0f921"
             ]
            ],
            "type": "histogram2dcontour"
           }
          ],
          "mesh3d": [
           {
            "colorbar": {
             "outlinewidth": 0,
             "ticks": ""
            },
            "type": "mesh3d"
           }
          ],
          "parcoords": [
           {
            "line": {
             "colorbar": {
              "outlinewidth": 0,
              "ticks": ""
             }
            },
            "type": "parcoords"
           }
          ],
          "pie": [
           {
            "automargin": true,
            "type": "pie"
           }
          ],
          "scatter": [
           {
            "fillpattern": {
             "fillmode": "overlay",
             "size": 10,
             "solidity": 0.2
            },
            "type": "scatter"
           }
          ],
          "scatter3d": [
           {
            "line": {
             "colorbar": {
              "outlinewidth": 0,
              "ticks": ""
             }
            },
            "marker": {
             "colorbar": {
              "outlinewidth": 0,
              "ticks": ""
             }
            },
            "type": "scatter3d"
           }
          ],
          "scattercarpet": [
           {
            "marker": {
             "colorbar": {
              "outlinewidth": 0,
              "ticks": ""
             }
            },
            "type": "scattercarpet"
           }
          ],
          "scattergeo": [
           {
            "marker": {
             "colorbar": {
              "outlinewidth": 0,
              "ticks": ""
             }
            },
            "type": "scattergeo"
           }
          ],
          "scattergl": [
           {
            "marker": {
             "colorbar": {
              "outlinewidth": 0,
              "ticks": ""
             }
            },
            "type": "scattergl"
           }
          ],
          "scattermap": [
           {
            "marker": {
             "colorbar": {
              "outlinewidth": 0,
              "ticks": ""
             }
            },
            "type": "scattermap"
           }
          ],
          "scattermapbox": [
           {
            "marker": {
             "colorbar": {
              "outlinewidth": 0,
              "ticks": ""
             }
            },
            "type": "scattermapbox"
           }
          ],
          "scatterpolar": [
           {
            "marker": {
             "colorbar": {
              "outlinewidth": 0,
              "ticks": ""
             }
            },
            "type": "scatterpolar"
           }
          ],
          "scatterpolargl": [
           {
            "marker": {
             "colorbar": {
              "outlinewidth": 0,
              "ticks": ""
             }
            },
            "type": "scatterpolargl"
           }
          ],
          "scatterternary": [
           {
            "marker": {
             "colorbar": {
              "outlinewidth": 0,
              "ticks": ""
             }
            },
            "type": "scatterternary"
           }
          ],
          "surface": [
           {
            "colorbar": {
             "outlinewidth": 0,
             "ticks": ""
            },
            "colorscale": [
             [
              0,
              "#0d0887"
             ],
             [
              0.1111111111111111,
              "#46039f"
             ],
             [
              0.2222222222222222,
              "#7201a8"
             ],
             [
              0.3333333333333333,
              "#9c179e"
             ],
             [
              0.4444444444444444,
              "#bd3786"
             ],
             [
              0.5555555555555556,
              "#d8576b"
             ],
             [
              0.6666666666666666,
              "#ed7953"
             ],
             [
              0.7777777777777778,
              "#fb9f3a"
             ],
             [
              0.8888888888888888,
              "#fdca26"
             ],
             [
              1,
              "#f0f921"
             ]
            ],
            "type": "surface"
           }
          ],
          "table": [
           {
            "cells": {
             "fill": {
              "color": "#EBF0F8"
             },
             "line": {
              "color": "white"
             }
            },
            "header": {
             "fill": {
              "color": "#C8D4E3"
             },
             "line": {
              "color": "white"
             }
            },
            "type": "table"
           }
          ]
         },
         "layout": {
          "annotationdefaults": {
           "arrowcolor": "#2a3f5f",
           "arrowhead": 0,
           "arrowwidth": 1
          },
          "autotypenumbers": "strict",
          "coloraxis": {
           "colorbar": {
            "outlinewidth": 0,
            "ticks": ""
           }
          },
          "colorscale": {
           "diverging": [
            [
             0,
             "#8e0152"
            ],
            [
             0.1,
             "#c51b7d"
            ],
            [
             0.2,
             "#de77ae"
            ],
            [
             0.3,
             "#f1b6da"
            ],
            [
             0.4,
             "#fde0ef"
            ],
            [
             0.5,
             "#f7f7f7"
            ],
            [
             0.6,
             "#e6f5d0"
            ],
            [
             0.7,
             "#b8e186"
            ],
            [
             0.8,
             "#7fbc41"
            ],
            [
             0.9,
             "#4d9221"
            ],
            [
             1,
             "#276419"
            ]
           ],
           "sequential": [
            [
             0,
             "#0d0887"
            ],
            [
             0.1111111111111111,
             "#46039f"
            ],
            [
             0.2222222222222222,
             "#7201a8"
            ],
            [
             0.3333333333333333,
             "#9c179e"
            ],
            [
             0.4444444444444444,
             "#bd3786"
            ],
            [
             0.5555555555555556,
             "#d8576b"
            ],
            [
             0.6666666666666666,
             "#ed7953"
            ],
            [
             0.7777777777777778,
             "#fb9f3a"
            ],
            [
             0.8888888888888888,
             "#fdca26"
            ],
            [
             1,
             "#f0f921"
            ]
           ],
           "sequentialminus": [
            [
             0,
             "#0d0887"
            ],
            [
             0.1111111111111111,
             "#46039f"
            ],
            [
             0.2222222222222222,
             "#7201a8"
            ],
            [
             0.3333333333333333,
             "#9c179e"
            ],
            [
             0.4444444444444444,
             "#bd3786"
            ],
            [
             0.5555555555555556,
             "#d8576b"
            ],
            [
             0.6666666666666666,
             "#ed7953"
            ],
            [
             0.7777777777777778,
             "#fb9f3a"
            ],
            [
             0.8888888888888888,
             "#fdca26"
            ],
            [
             1,
             "#f0f921"
            ]
           ]
          },
          "colorway": [
           "#636efa",
           "#EF553B",
           "#00cc96",
           "#ab63fa",
           "#FFA15A",
           "#19d3f3",
           "#FF6692",
           "#B6E880",
           "#FF97FF",
           "#FECB52"
          ],
          "font": {
           "color": "#2a3f5f"
          },
          "geo": {
           "bgcolor": "white",
           "lakecolor": "white",
           "landcolor": "#E5ECF6",
           "showlakes": true,
           "showland": true,
           "subunitcolor": "white"
          },
          "hoverlabel": {
           "align": "left"
          },
          "hovermode": "closest",
          "mapbox": {
           "style": "light"
          },
          "paper_bgcolor": "white",
          "plot_bgcolor": "#E5ECF6",
          "polar": {
           "angularaxis": {
            "gridcolor": "white",
            "linecolor": "white",
            "ticks": ""
           },
           "bgcolor": "#E5ECF6",
           "radialaxis": {
            "gridcolor": "white",
            "linecolor": "white",
            "ticks": ""
           }
          },
          "scene": {
           "xaxis": {
            "backgroundcolor": "#E5ECF6",
            "gridcolor": "white",
            "gridwidth": 2,
            "linecolor": "white",
            "showbackground": true,
            "ticks": "",
            "zerolinecolor": "white"
           },
           "yaxis": {
            "backgroundcolor": "#E5ECF6",
            "gridcolor": "white",
            "gridwidth": 2,
            "linecolor": "white",
            "showbackground": true,
            "ticks": "",
            "zerolinecolor": "white"
           },
           "zaxis": {
            "backgroundcolor": "#E5ECF6",
            "gridcolor": "white",
            "gridwidth": 2,
            "linecolor": "white",
            "showbackground": true,
            "ticks": "",
            "zerolinecolor": "white"
           }
          },
          "shapedefaults": {
           "line": {
            "color": "#2a3f5f"
           }
          },
          "ternary": {
           "aaxis": {
            "gridcolor": "white",
            "linecolor": "white",
            "ticks": ""
           },
           "baxis": {
            "gridcolor": "white",
            "linecolor": "white",
            "ticks": ""
           },
           "bgcolor": "#E5ECF6",
           "caxis": {
            "gridcolor": "white",
            "linecolor": "white",
            "ticks": ""
           }
          },
          "title": {
           "x": 0.05
          },
          "xaxis": {
           "automargin": true,
           "gridcolor": "white",
           "linecolor": "white",
           "ticks": "",
           "title": {
            "standoff": 15
           },
           "zerolinecolor": "white",
           "zerolinewidth": 2
          },
          "yaxis": {
           "automargin": true,
           "gridcolor": "white",
           "linecolor": "white",
           "ticks": "",
           "title": {
            "standoff": 15
           },
           "zerolinecolor": "white",
           "zerolinewidth": 2
          }
         }
        },
        "title": {
         "text": "Gmail Vector Store Visualization (colored by sender domain)"
        },
        "width": 800,
        "xaxis": {
         "title": {
          "text": "Dimension 1"
         }
        },
        "yaxis": {
         "title": {
          "text": "Dimension 2"
         }
        }
       }
      },
      "image/png": "[encoded data removed]"
     },
     "metadata": {},
     "output_type": "display_data"
    }
   ],
   "source": [
    "# Visualize the vector database\n",
    "if vectorstore:\n",
    "    print(\"Generating visualization...\")\n",
    "    fig = visualize_email_vectors(vectorstore)\n",
    "    if fig:\n",
    "        fig.show()\n",
    "    else:\n",
    "        print(\"⚠️  Visualization not available (insufficient data or error)\")"
   ]
  },
  {
   "cell_type": "code",
   "execution_count": 11,
   "id": "962638aa",
   "metadata": {},
   "outputs": [
    {
     "name": "stdout",
     "output_type": "stream",
     "text": [
      "🧠 Using Gemini for conversations\n"
     ]
    },
    {
     "name": "stderr",
     "output_type": "stream",
     "text": [
      "C:\\Users\\manas\\AppData\\Local\\Temp\\ipykernel_32500\\4025106116.py:12: LangChainDeprecationWarning:\n",
      "\n",
      "Please see the migration guide at: https://python.langchain.com/docs/versions/migrating_memory/\n",
      "\n"
     ]
    },
    {
     "name": "stdout",
     "output_type": "stream",
     "text": [
      "✅ RAG system ready with Gemini!\n"
     ]
    }
   ],
   "source": [
    "# Set up the RAG conversation chain with error handling\n",
    "def setup_conversation_chain(vectorstore):\n",
    "    \"\"\"Set up the conversation chain with appropriate LLM\"\"\"\n",
    "    try:\n",
    "        if LANGCHAIN_GOOGLE_AVAILABLE:\n",
    "            llm = ChatGoogleGenerativeAI(model=MODEL, temperature=0.7)\n",
    "            print(\"🧠 Using Gemini for conversations\")\n",
    "        else:\n",
    "            llm = ChatOpenAI(model=MODEL, temperature=0.7)\n",
    "            print(\"🧠 Using OpenAI for conversations\")\n",
    "        \n",
    "        memory = ConversationBufferMemory(\n",
    "            memory_key='chat_history', \n",
    "            return_messages=True, \n",
    "            output_key='answer'\n",
    "        )\n",
    "        \n",
    "        retriever = vectorstore.as_retriever(search_kwargs={\"k\": 5})\n",
    "        \n",
    "        conversation_chain = ConversationalRetrievalChain.from_llm(\n",
    "            llm=llm, \n",
    "            retriever=retriever, \n",
    "            memory=memory,\n",
    "            return_source_documents=True\n",
    "        )\n",
    "        \n",
    "        return conversation_chain\n",
    "    except Exception as e:\n",
    "        print(f\"❌ Error setting up conversation chain: {e}\")\n",
    "        return None\n",
    "\n",
    "# Initialize conversation chain\n",
    "if vectorstore:\n",
    "    conversation_chain = setup_conversation_chain(vectorstore)\n",
    "    if conversation_chain:\n",
    "        model_name = \"Gemini\" if LANGCHAIN_GOOGLE_AVAILABLE else \"OpenAI\"\n",
    "        print(f\"✅ RAG system ready with {model_name}!\")\n",
    "    else:\n",
    "        print(\"❌ Failed to initialize conversation chain\")\n",
    "else:\n",
    "    print(\"❌ No vector database available\")\n",
    "    conversation_chain = None"
   ]
  },
  {
   "cell_type": "code",
   "execution_count": 12,
   "id": "d98115d4",
   "metadata": {},
   "outputs": [],
   "source": [
    "def chat_with_emails(message, history):\n",
    "    \"\"\"Chat function for Gradio interface using LangChain\"\"\"\n",
    "    if not conversation_chain:\n",
    "        return \"❌ RAG system not available. Please check your setup and API keys.\"\n",
    "    \n",
    "    try:\n",
    "        # Simplify the message to avoid complex formatting that might cause issues\n",
    "        result = conversation_chain.invoke({\"question\": message})\n",
    "        answer = result['answer']\n",
    "        \n",
    "        # Add detailed source information\n",
    "        if result.get('source_documents'):\n",
    "            answer += \"\\n\\n**📧 Email Sources:**\\n\"\n",
    "            for i, doc in enumerate(result['source_documents'][:3]):  # Show top 3 sources\n",
    "                subject = doc.metadata.get('subject', 'No Subject')\n",
    "                sender = doc.metadata.get('sender', 'Unknown Sender')\n",
    "                date = doc.metadata.get('date', 'Unknown Date')\n",
    "                answer += f\"\\n{i+1}. \\\"{subject}\\\" from {sender} ({date})\"\n",
    "        \n",
    "        return answer\n",
    "    except Exception as e:\n",
    "        error_msg = str(e)\n",
    "        if \"Unknown field for Part\" in error_msg:\n",
    "            return \"❌ Gemini API formatting error. Try rephrasing your question or use simpler language.\"\n",
    "        return f\"❌ Error: {error_msg}\\n💡 Try refreshing the interface or check your API keys.\""
   ]
  },
  {
   "cell_type": "code",
   "execution_count": 13,
   "id": "ccb0ea2b",
   "metadata": {},
   "outputs": [
    {
     "name": "stdout",
     "output_type": "stream",
     "text": [
      "🚀 Launching Gmail RAG interface with Gemini...\n",
      "* Running on local URL:  http://127.0.0.1:7867\n",
      "* To create a public link, set `share=True` in `launch()`.\n"
     ]
    },
    {
     "data": {
      "text/html": [
       "<div><iframe src=\"http://127.0.0.1:7867/\" width=\"100%\" height=\"500\" allow=\"autoplay; camera; microphone; clipboard-read; clipboard-write;\" frameborder=\"0\" allowfullscreen></iframe></div>"
      ],
      "text/plain": [
       "<IPython.core.display.HTML object>"
      ]
     },
     "metadata": {},
     "output_type": "display_data"
    }
   ],
   "source": [
    "# Launch the Gradio interface with error handling\n",
    "if vectorstore and conversation_chain:\n",
    "    model_name = \"Gemini\" if LANGCHAIN_GOOGLE_AVAILABLE else \"OpenAI\"\n",
    "    print(f\"🚀 Launching Gmail RAG interface with {model_name}...\")\n",
    "    \n",
    "    interface = gr.ChatInterface(\n",
    "        fn=chat_with_emails,\n",
    "        type=\"messages\",\n",
    "        title=f\"📧 Gmail RAG Assistant (LangChain + {model_name})\",\n",
    "        description=f\"Ask questions about your Gmail emails. Powered by {model_name} AI, this system will search through your email history and provide intelligent answers based on your actual email content.\",\n",
    "        examples=[\n",
    "            \"What emails did I receive about work projects?\",\n",
    "            \"Show me recent emails from my manager\", \n",
    "            \"What meeting invitations did I get this week?\",\n",
    "            \"Find emails about travel plans\",\n",
    "            \"What important announcements did I receive?\",\n",
    "            \"Who sent me emails about deadlines?\",\n",
    "            \"What were the main topics discussed in recent emails?\"\n",
    "        ],\n",
    "        theme=gr.themes.Soft()\n",
    "    )\n",
    "    \n",
    "    interface.launch(inbrowser=True)\n",
    "else:\n",
    "    print(\"❌ Gmail RAG system not available.\")\n",
    "    print(\"🔧 Please check:\")\n",
    "    print(\"   1. API keys are set correctly\")\n",
    "    print(\"   2. Dependencies are installed properly\")\n",
    "    print(\"   3. Gmail credentials are configured\")"
   ]
  },
  {
   "cell_type": "code",
   "execution_count": 14,
   "id": "e6d1a640",
   "metadata": {},
   "outputs": [
    {
     "name": "stdout",
     "output_type": "stream",
     "text": [
      "\n",
      "=== Gmail RAG System Status ===\n",
      "🔧 LangChain Google GenAI Available: True\n",
      "🤖 Using Model: gemini-1.5-flash\n",
      "🔤 Using Embeddings: models/embedding-001\n",
      "💾 Database Path: gmail_vector_db\n",
      "📊 Database Exists: True\n",
      "📈 Vector Store Loaded: ✅\n",
      "📧 Total Email Chunks: 495\n",
      "🔑 Google API Key: ✅\n"
     ]
    },
    {
     "ename": "NameError",
     "evalue": "name 'collection' is not defined",
     "output_type": "error",
     "traceback": [
      "\u001b[31m---------------------------------------------------------------------------\u001b[39m",
      "\u001b[31mNameError\u001b[39m                                 Traceback (most recent call last)",
      "\u001b[36mCell\u001b[39m\u001b[36m \u001b[39m\u001b[32mIn[14]\u001b[39m\u001b[32m, line 62\u001b[39m\n\u001b[32m     59\u001b[39m         \u001b[38;5;28mprint\u001b[39m(\u001b[33mf\u001b[39m\u001b[33m\"\u001b[39m\u001b[33m  \u001b[39m\u001b[38;5;132;01m{\u001b[39;00msender\u001b[38;5;132;01m}\u001b[39;00m\u001b[33m: \u001b[39m\u001b[38;5;132;01m{\u001b[39;00mcount\u001b[38;5;132;01m}\u001b[39;00m\u001b[33m chunks\u001b[39m\u001b[33m\"\u001b[39m)\n\u001b[32m     61\u001b[39m \u001b[38;5;66;03m# Run statistics\u001b[39;00m\n\u001b[32m---> \u001b[39m\u001b[32m62\u001b[39m \u001b[38;5;28;01mif\u001b[39;00m \u001b[43mcollection\u001b[49m:\n\u001b[32m     63\u001b[39m     show_database_stats()\n",
      "\u001b[31mNameError\u001b[39m: name 'collection' is not defined"
     ]
    }
   ],
   "source": [
    "# System information and troubleshooting\n",
    "def check_system_status():\n",
    "    \"\"\"Check system status and dependencies\"\"\"\n",
    "    print(\"\\n=== Gmail RAG System Status ===\")\n",
    "    print(f\"🔧 LangChain Google GenAI Available: {LANGCHAIN_GOOGLE_AVAILABLE}\")\n",
    "    print(f\"🤖 Using Model: {MODEL}\")\n",
    "    print(f\"🔤 Using Embeddings: {EMBEDDING_MODEL}\")\n",
    "    print(f\"💾 Database Path: {DB_NAME}\")\n",
    "    print(f\"📊 Database Exists: {os.path.exists(DB_NAME)}\")\n",
    "    \n",
    "    if vectorstore:\n",
    "        print(f\"📈 Vector Store Loaded: ✅\")\n",
    "        print(f\"📧 Total Email Chunks: {vectorstore._collection.count()}\")\n",
    "    else:\n",
    "        print(f\"📈 Vector Store Loaded: ❌\")\n",
    "    \n",
    "    # Check API keys\n",
    "    google_key = os.environ.get('GOOGLE_API_KEY', '')\n",
    "    openai_key = os.environ.get('OPENAI_API_KEY', '')\n",
    "    \n",
    "    print(f\"🔑 Google API Key: {'✅' if google_key and google_key != 'your-key-if-not-using-env' else '❌'}\")\n",
    "    if not LANGCHAIN_GOOGLE_AVAILABLE:\n",
    "        print(f\"🔑 OpenAI API Key: {'✅' if openai_key and openai_key != 'your-key-if-not-using-env' else '❌'}\")\n",
    "\n",
    "# Run system check\n",
    "check_system_status()\n",
    "\n",
    "# Database statistics and management\n",
    "def show_database_stats():\n",
    "    \"\"\"Show statistics about the email database\"\"\"\n",
    "    if not collection:\n",
    "        print(\"No vector database available\")\n",
    "        return\n",
    "    \n",
    "    result = collection.get(include=['metadatas'])\n",
    "    \n",
    "    print(f\"\\n=== Gmail RAG Database Statistics ===\")\n",
    "    print(f\"Total chunks in database: {collection.count()}\")\n",
    "    \n",
    "    # Analyze by sender\n",
    "    senders = {}\n",
    "    subjects = []\n",
    "    \n",
    "    for metadata in result['metadatas']:\n",
    "        sender = metadata.get('sender', 'Unknown')\n",
    "        subject = metadata.get('subject', 'No Subject')\n",
    "        \n",
    "        if sender in senders:\n",
    "            senders[sender] += 1\n",
    "        else:\n",
    "            senders[sender] = 1\n",
    "        \n",
    "        if subject not in subjects:\n",
    "            subjects.append(subject)\n",
    "    \n",
    "    print(f\"Unique email subjects: {len(subjects)}\")\n",
    "    print(f\"Top senders:\")\n",
    "    for sender, count in sorted(senders.items(), key=lambda x: x[1], reverse=True)[:10]:\n",
    "        print(f\"  {sender}: {count} chunks\")\n",
    "\n",
    "# Run statistics\n",
    "if collection:\n",
    "    show_database_stats()"
   ]
  }
 ],
 "metadata": {
  "kernelspec": {
   "display_name": "Python 3 (ipykernel)",
   "language": "python",
   "name": "python3"
  },
  "language_info": {
   "codemirror_mode": {
    "name": "ipython",
    "version": 3
   },
   "file_extension": ".py",
   "mimetype": "text/x-python",
   "name": "python",
   "nbconvert_exporter": "python",
   "pygments_lexer": "ipython3",
   "version": "3.11.12"
  }
 },
 "nbformat": 4,
 "nbformat_minor": 5
}
